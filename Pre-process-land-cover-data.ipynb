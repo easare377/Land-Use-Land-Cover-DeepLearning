{
 "cells": [
  {
   "cell_type": "code",
   "execution_count": 2,
   "metadata": {},
   "outputs": [],
   "source": [
    "from osgeo import gdal\n",
    "from osgeo import gdal_array\n",
    "from osgeo import osr\n",
    "\n",
    "import numpy as np\n",
    "import pandas as pd\n",
    "import image_utils as iu\n",
    "import tensorflow as tf\n",
    "import os\n",
    "from PIL import Image, ImageEnhance\n",
    "from PIL import ImageFilter\n",
    "from keras.models import load_model\n",
    "from shutil import copy2\n",
    "import matplotlib.pyplot as plt\n",
    "import geotiff_utils as gu\n",
    "from IPython.display import display, HTML\n",
    "from ipycanvas import Canvas\n",
    "from ipywidgets import Image as ipyImage\n",
    "from pyproj import Proj, transform\n",
    "import uuid\n",
    "import shutil"
   ]
  },
  {
   "cell_type": "code",
   "execution_count": 4,
   "metadata": {},
   "outputs": [],
   "source": [
    "data_path = 'data'\n",
    "segmentation_path = os.path.join(data_path, 'segmentation')\n",
    "original_path = os.path.join(segmentation_path, 'original')\n",
    "real_data_path = os.path.join(original_path, 'real')\n",
    "mask_data_path = os.path.join(original_path, 'mask')\n",
    "# divided images\n",
    "divided_data_path = os.path.join(segmentation_path, 'divided')\n",
    "real_divided_data_path = os.path.join(divided_data_path, 'real')\n",
    "mask_divided_data_path = os.path.join(divided_data_path, 'mask')\n",
    "#\n",
    "final_data_path = os.path.join(segmentation_path, 'final')\n",
    "real_final_data_path = os.path.join(final_data_path, 'real')\n",
    "mask_final_data_path = os.path.join(final_data_path, 'mask')\n",
    "#Html Path\n",
    "html_path = 'html'\n",
    "# Saved models\n",
    "saved_model_path = os.path.join(segmentation_path, 'saved-models')\n",
    "# Predictions path.\n",
    "prediction_path = os.path.join(segmentation_path, 'predictions')\n"
   ]
  },
  {
   "cell_type": "code",
   "execution_count": 3,
   "metadata": {},
   "outputs": [],
   "source": [
    "def plot_histogram(labels, values):\n",
    "    fig = plt.figure(figsize=(20, 8))\n",
    "    ax = fig.add_axes([0, 0, 1, 1])\n",
    "    bars = ax.bar(labels, values)\n",
    "    plt.bar_label(bars)\n",
    "    plt.xticks(rotation=90)\n",
    "    plt.ylabel('Area km²')\n",
    "    plt.xlabel('Class')\n",
    "    plt.show()\n"
   ]
  },
  {
   "cell_type": "code",
   "execution_count": 4,
   "metadata": {},
   "outputs": [],
   "source": [
    "#The pixel values in the geo tiff image is used to represent a land map class.\n",
    "class_encoding = {2: 'Degraded Gallery Forest',\n",
    "                      3: 'Wetland',\n",
    "                      4: 'Landfill',\n",
    "                      6: 'Plantation',\n",
    "                      7: 'Mangrove',\n",
    "                      8: 'Agric',\n",
    "                      9: 'Waterbody',\n",
    "                      10: 'Sandy Area',\n",
    "                      11: 'Rocky Land',\n",
    "                      12: 'Bare Soil',\n",
    "                      13: 'Settlement',\n",
    "                      14: 'Irrigated Agric',\n",
    "                      15: 'Gallery',\n",
    "                      16: 'Shrub and Tee Savanna',\n",
    "                      17: 'Wooded Savanna',\n",
    "                      18: 'Forest',\n",
    "                      19: 'Salt Pan',\n",
    "                      21: 'Degraded',\n",
    "                      22: 'Bowe',\n",
    "                      24: 'Agric in Shallow and Recession',\n",
    "                      25: 'Woodland',\n",
    "                      31: 'Dam',\n",
    "                      32: 'Herbaecous Savanna',\n",
    "                      78: 'Shrub Land',\n",
    "                      255: 'No Data'}"
   ]
  },
  {
   "cell_type": "code",
   "execution_count": 5,
   "metadata": {},
   "outputs": [],
   "source": [
    "# The color code or legend for each class is defined for visualization\n",
    "color_encoding = {2: [255, 0, 0],  # Degraded Gallery Forest\n",
    "                  3: [60, 154, 206],  # Wetland\n",
    "                  4: [50, 50, 50],  # Landfill\n",
    "                  6: [0, 255, 0],  # Plantation\n",
    "                  7: [98, 124, 61],  # Mangrove\n",
    "                  8: [217, 212, 12],  # Agric\n",
    "                  9: [0, 1, 128],  # Waterbody\n",
    "                  10: [255, 223, 167],  # Sandy Area\n",
    "                  11: [180, 96, 0],  # Rocky Land\n",
    "                  12: [142, 125, 115],  # Bare Soil\n",
    "                  13: [251, 72, 196],  # Settlement\n",
    "                  14: [179, 227, 214],  # Irrigated Agric\n",
    "                  15: [255, 128, 64],  # Gallery\n",
    "                  16: [41, 49, 28],  # Shrub and Tee Savanna\n",
    "                  17: [231, 177, 106],  # Wooded Savanna\n",
    "                  18: [65, 100, 34],  # Forest\n",
    "                  19: [50, 50, 50],  # Salt Pan\n",
    "                  21: [119, 85, 60],  # Degraded\n",
    "                  22: [128, 64, 255],  # Bowe\n",
    "                  24: [90, 64, 128],  # Agriculture in Shallow and Recession\n",
    "                  25: [255, 64, 64],  # Woodland\n",
    "                  31: [0, 255, 255],  # Dam\n",
    "                  32: [128, 0, 64],  # Herbaecous Savanna\n",
    "                  78: [255, 255, 255],  # Shrub Land\n",
    "                  255: [0, 0, 0]}  # No data\n"
   ]
  },
  {
   "cell_type": "code",
   "execution_count": null,
   "metadata": {},
   "outputs": [],
   "source": [
    "{2: 0,\n",
    " 3: 1,\n",
    " 6: 2,\n",
    " 7: 3,\n",
    " 8: 4,\n",
    " 9: 5,\n",
    " 10: 6,\n",
    " 11: 7,\n",
    " 12: 8,\n",
    " 13: 9,\n",
    " 14: 10,\n",
    " 15: 11,\n",
    " 16: 12,\n",
    " 17: 13,\n",
    " 18: 14,\n",
    " 19: 15,\n",
    " 21: 16,\n",
    " 22: 17,\n",
    " 24: 18,\n",
    " 25: 19,\n",
    " 31: 20,\n",
    " 32: 21,\n",
    " 78: 22,\n",
    " 255: 23}\n"
   ]
  },
  {
   "cell_type": "code",
   "execution_count": 6,
   "metadata": {},
   "outputs": [],
   "source": [
    "# The color code or legend for each class is defined for visualization\n",
    "new_color_encoding = {0: [255, 0, 0],  # Degraded Gallery Forest\n",
    "                  1: [60, 154, 206],  # Wetland\n",
    "                  2: [0, 255, 0],  # Plantation\n",
    "                  3: [98, 124, 61],  # Mangrove\n",
    "                  4: [217, 212, 12],  # Agric\n",
    "                  5: [0, 1, 128],  # Waterbody\n",
    "                  6: [255, 223, 167],  # Sandy Area\n",
    "                  7: [180, 96, 0],  # Rocky Land\n",
    "                  8: [142, 125, 115],  # Bare Soil\n",
    "                  9: [251, 72, 196],  # Settlement\n",
    "                  10: [179, 227, 214],  # Irrigated Agric\n",
    "                  11: [255, 128, 64],  # Gallery\n",
    "                  12: [41, 49, 28],  # Shrub and Tee Savanna\n",
    "                  13: [231, 177, 106],  # Wooded Savanna\n",
    "                  14: [65, 100, 34],  # Forest\n",
    "                  15: [50, 50, 50],  # Salt Pan\n",
    "                  16: [119, 85, 60],  # Degraded\n",
    "                  17: [128, 64, 255],  # Bowe\n",
    "                  18: [90, 64, 128],  # Agriculture in Shallow and Recession\n",
    "                  19: [255, 64, 64],  # Woodland\n",
    "                  20: [0, 255, 255],  # Dam\n",
    "                  21: [128, 0, 64],  # Herbaecous Savanna\n",
    "                  22: [255, 255, 255],  # Shrub Land\n",
    "                  23: [0, 0, 0]}  # No data"
   ]
  },
  {
   "cell_type": "code",
   "execution_count": 6,
   "metadata": {},
   "outputs": [
    {
     "name": "stdout",
     "output_type": "stream",
     "text": [
      "Metadata\n",
      "No of bands: 1\n",
      "Image Resolution: 988 x 1425\n",
      "Latitude: 471309.17540000007\n",
      "Longitude: 1236197.3455999997\n",
      "Rotation: 0.0\n",
      "Pixel Resolution: 500.0 meters x 500.0 meters\n"
     ]
    }
   ],
   "source": [
    "#open the land use land cover map.\n",
    "geoTiff = gdal.Open(\n",
    "    os.path.join(data_path, 'Final_RLCM_Ghana_2017.tif'), gdal.GA_ReadOnly)\n",
    "geoTiff.RasterCount, geoTiff.RasterXSize, geoTiff.RasterYSize, geoTiff.GetMetadata()\n",
    "xmin_i, xres_i, xskew_i, ymin_i, yskew_r, yres_i = geoTiff.GetGeoTransform()\n",
    "print('Metadata')\n",
    "print('No of bands:', geoTiff.RasterCount)\n",
    "print('Image Resolution:', geoTiff.RasterXSize, 'x',  geoTiff.RasterYSize)\n",
    "# print('Projection:', geoTiff.GetProjection())\n",
    "print('Latitude:', xmin_i)\n",
    "print('Longitude:', ymin_i)\n",
    "print('Rotation:', xskew_i)\n",
    "print('Pixel Resolution:', abs(xres_i), 'meters', 'x', abs(yres_i), 'meters')\n"
   ]
  },
  {
   "cell_type": "code",
   "execution_count": null,
   "metadata": {},
   "outputs": [],
   "source": [
    "#\n",
    "gh_im = gu.get_l_band(geoTiff, 1)\n",
    "flat_gh_im = gh_im.reshape(-1, 1)\n",
    "print(flat_gh_im)\n",
    "#\n",
    "new_gh_im = []\n",
    "for x in range(flat_gh_im.shape[0]):\n",
    "    new_gh_im.append(color_encoding.get(flat_gh_im[x][0]))\n",
    "#\n",
    "new_gh_im = np.array(new_gh_im).reshape(gh_im.shape[0], gh_im.shape[1], 3)\n",
    "enc_im = Image.fromarray(np.array(new_gh_im, dtype=np.uint8))\n",
    "# enc_im\n",
    "enc_im.save(os.path.join(html_path, 'land_use_land_cover_map.png'))\n"
   ]
  },
  {
   "cell_type": "code",
   "execution_count": 45,
   "metadata": {},
   "outputs": [],
   "source": [
    "def display_legend(np_image, color_encoding):\n",
    "    flat_gh_im = np_image.reshape(-1, 1)\n",
    "    #\n",
    "    new_gh_im = []\n",
    "    for x in range(flat_gh_im.shape[0]):\n",
    "        new_gh_im.append(color_encoding.get(flat_gh_im[x][0], [0, 0, 0]))\n",
    "    #\n",
    "    new_gh_im = np.array(new_gh_im).reshape(np_image.shape[0], np_image.shape[1], 3)\n",
    "    enc_im = Image.fromarray(np.array(new_gh_im, dtype=np.uint8))\n",
    "    return enc_im\n"
   ]
  },
  {
   "cell_type": "code",
   "execution_count": 8,
   "metadata": {},
   "outputs": [
    {
     "data": {
      "text/html": [
       "<html>\n",
       "\n",
       "<head>\n",
       "    <style>\n",
       "        body {\n",
       "            position: relative;\n",
       "            cursor: normal;\n",
       "        }\n",
       "\n",
       "        #tooltip {\n",
       "            position: absolute;\n",
       "            display: flex;\n",
       "            justify-content: center;\n",
       "            align-items: center;\n",
       "            min-height: 30px;\n",
       "            min-width: 90px;\n",
       "            background-color: white;\n",
       "            z-index: 1;\n",
       "            color: black;\n",
       "            border-radius: 5px;\n",
       "            border: 1px solid gray;\n",
       "            cursor: default;\n",
       "            pointer-events: none;\n",
       "            padding: 5px;\n",
       "        }\n",
       "\n",
       "        #map {\n",
       "            display: flex;\n",
       "            justify-content: start;\n",
       "        }\n",
       "\n",
       "        canvas {\n",
       "            /* zoom: 200%; */\n",
       "            overflow: hidden;\n",
       "            flex: 1;\n",
       "        }\n",
       "\n",
       "        #legend {\n",
       "            width: 400px;\n",
       "            background-color: white;\n",
       "            overflow: hidden;\n",
       "        }\n",
       "\n",
       "        #classes-title {\n",
       "            display: flex;\n",
       "            align-items: center;\n",
       "            width: 100%;\n",
       "            height: 50px;\n",
       "            background-color: lightgrey;\n",
       "            padding: 0 10px;\n",
       "            font-size: 15px;\n",
       "            color: black;\n",
       "        }\n",
       "\n",
       "        .dropdown {\n",
       "            display: inline-block;\n",
       "            position: relative;\n",
       "            width: 100%;\n",
       "            height: 100%;\n",
       "            /*display: inline-block;*/\n",
       "        }\n",
       "\n",
       "        .dropdown-content {\n",
       "            display: none;\n",
       "            position: absolute;\n",
       "            z-index: 1;\n",
       "            background: white;\n",
       "        }\n",
       "\n",
       "        .arrow {\n",
       "            border: solid dodgerblue;\n",
       "            border-width: 0 3px 3px 0;\n",
       "            display: inline-block;\n",
       "            padding: 5px;\n",
       "        }\n",
       "\n",
       "        .arrow-small {\n",
       "            border-width: 0 1px 1px 0;\n",
       "            padding: 3px;\n",
       "        }\n",
       "\n",
       "        .a-right {\n",
       "            transform: rotate(-45deg);\n",
       "            -webkit-transform: rotate(-45deg);\n",
       "        }\n",
       "\n",
       "        ul {\n",
       "            list-style-type: none;\n",
       "            padding: 0;\n",
       "            margin: 0;\n",
       "        }\n",
       "\n",
       "        li {\n",
       "            display: flex;\n",
       "            justify-content: left;\n",
       "            align-items: center;\n",
       "            height: 50px;\n",
       "            width: 150px;\n",
       "            color: black;\n",
       "            padding: 0 10px;\n",
       "            cursor: pointer;\n",
       "        }\n",
       "\n",
       "\n",
       "\n",
       "        li:hover {\n",
       "            background-color: lightgrey;\n",
       "        }\n",
       "\n",
       "        .show {\n",
       "            display: block;\n",
       "        }\n",
       "\n",
       "        .hide {\n",
       "            display: none;\n",
       "        }\n",
       "\n",
       "        #legend-list {\n",
       "            height: 500px;\n",
       "            overflow-y: auto;\n",
       "            overflow-x: hidden;\n",
       "        }\n",
       "\n",
       "        .legend-color {\n",
       "            margin-left: 5px;\n",
       "            height: 10px;\n",
       "            width: 50px;\n",
       "            border: 1px solid black;\n",
       "            /* background-color: red; */\n",
       "        }\n",
       "\n",
       "        .class-info {\n",
       "            width: 100% !important;\n",
       "        }\n",
       "\n",
       "        .class-name {\n",
       "            width: 200px;\n",
       "        }\n",
       "    </style>\n",
       "</head>\n",
       "\n",
       "<body>\n",
       "    <div id=\"label\"></div>\n",
       "    <div id=\"map\"><canvas id=\"myCanvas\" class=\"dropdown\" style=\"border:1px solid #c3c3c3;\">\n",
       "            Your browser does not support the canvas element.\n",
       "        </canvas>\n",
       "        <!--Legend-->\n",
       "        <div id=\"legend\">\n",
       "            <div id=\"classes-title\">\n",
       "                <input id=\"select-all-class\" type=\"checkbox\" checked>\n",
       "                Classes\n",
       "                <!-- <span class=\"legend-color\"></span> -->\n",
       "            </div>\n",
       "            <ul id=\"legend-list\">\n",
       "\n",
       "            </ul>\n",
       "        </div>\n",
       "    </div>\n",
       "    <!-- <img id=\"map_im\" src=\"html/land_use_land_cover_map.png\" /> -->\n",
       "    <div id=\"tooltip\" onclick=\"log('hello')\"></div>\n",
       "    <div id=\"context-menu\" class=\"dropdown-content\">\n",
       "        <ul>\n",
       "            <li id=\"select-class\">Show Class</li>\n",
       "            <li>Select Class</li>\n",
       "        </ul>\n",
       "    </div>\n",
       "</body>\n",
       "\n",
       "<script src=\"https://code.jquery.com/jquery-3.6.2.min.js\"></script>\n",
       "<script type=\"text/javascript\">\n",
       "    var canvas;\n",
       "    var tooltip;\n",
       "    var contextMenu;\n",
       "    var mousePos = {\n",
       "        x: 0,\n",
       "        y: 0\n",
       "    }\n",
       "    var classControlMap = new Map();\n",
       "    var defaultImage;\n",
       "    var color_encoding = {\n",
       "        '[255, 0, 0]': 'Degraded Gallery Forest',\n",
       "        '[60, 154, 206]': 'Wetland',\n",
       "        '[50, 50, 50]': 'Landfill',\n",
       "        '[0, 255, 0]': 'Plantation',\n",
       "        '[98, 124, 61]': 'Mangrove',\n",
       "        '[217, 212, 12]': 'Agric',\n",
       "        '[0, 1, 128]': 'Waterbody',\n",
       "        '[255, 223, 167]': 'Sandy Area',\n",
       "        '[180, 96, 0]': 'Rocky Land',\n",
       "        '[142, 125, 115]': 'Bare Soil',\n",
       "        '[251, 72, 196]': 'Settlement',\n",
       "        '[179, 227, 214]': 'Irrigated Agric',\n",
       "        '[255, 128, 64]': 'Gallery',\n",
       "        '[41, 49, 28]': 'Shrub and Tee Savanna',\n",
       "        '[231, 177, 106]': 'Wooded Savanna',\n",
       "        '[65, 100, 34]': 'Forest',\n",
       "        '[50, 50, 50]': 'Salt Pan',\n",
       "        '[119, 85, 60]': 'Degraded',\n",
       "        '[128, 64, 255]': 'Bowe',\n",
       "        '[90, 64, 128]': 'Agriculture in Shallow and Recession',\n",
       "        '[255, 64, 64]': 'Woodland',\n",
       "        '[0, 255, 255]': 'Dam',\n",
       "        '[128, 0, 64]': 'Herbaecous Savanna',\n",
       "        '[255, 255, 255]': 'Shrub Land',\n",
       "        '[0, 0, 0]': 'No Data'\n",
       "    }\n",
       "\n",
       "\n",
       "    jQuery(document).ready(function ($) {\n",
       "        var label = document.getElementById('label');\n",
       "        canvas = document.getElementById('myCanvas');\n",
       "        tooltip = document.getElementById('tooltip');\n",
       "        contextMenu = document.getElementById('context-menu');\n",
       "        var map_im = document.getElementById('map_im');\n",
       "        var selectAllClassCheckbox = document.getElementById('select-all-class');\n",
       "        // defaultImage.src = 'html/land_use_land_cover_map.png';\n",
       "        var legend_ul = document.getElementById('legend-list');\n",
       "        for (encoding in color_encoding) {\n",
       "            legend_ul.appendChild(createLegend(encoding));\n",
       "        }\n",
       "        selectAllClassCheckbox.onchange = function (event) {\n",
       "            var checked = event.currentTarget.checked;\n",
       "            classControlMap.forEach(c => c.setChecked(checked));\n",
       "            showImage();\n",
       "        }\n",
       "        showImage();\n",
       "    });\n",
       "\n",
       "    function createLegend(class_info) {\n",
       "        var vals = class_info.replace('[', '').replace(']', '').replace(/ /g, '').split(',');\n",
       "        var r = Number(vals[0])\n",
       "        var g = Number(vals[1])\n",
       "        var b = Number(vals[2]);\n",
       "        var classData = {\n",
       "            rgb: undefined,\n",
       "            checked: undefined,\n",
       "            setChecked: undefined\n",
       "        };\n",
       "        var li = document.createElement(\"li\");\n",
       "        li.classList.add('class-info')\n",
       "        var input = document.createElement(\"input\");\n",
       "        input.type = 'checkbox';\n",
       "        input.checked = true;\n",
       "        if (r + g + b === 0) {\n",
       "            input.disabled = true;\n",
       "        }\n",
       "        classData.checked = input.checked\n",
       "        var classNameSpan = document.createElement(\"span\");\n",
       "        classNameSpan.classList.add('class-name');\n",
       "        classNameSpan.innerText = color_encoding[class_info];\n",
       "        var legendColorSpan = document.createElement(\"span\");\n",
       "        legendColorSpan.classList.add('legend-color')\n",
       "        li.appendChild(input);\n",
       "        li.appendChild(classNameSpan);\n",
       "        li.appendChild(legendColorSpan);\n",
       "        legendColorSpan.style.backgroundColor = \"rgb\" + class_info.replace('[', '(').replace(']', ')');\n",
       "        classData.rgb = (r, g, b);\n",
       "        input.onchange = function (event) {\n",
       "            classData.checked = event.currentTarget.checked;\n",
       "            showImage();\n",
       "        }\n",
       "        classData.setChecked = function (value) {\n",
       "            if (r + g + b > 0) {\n",
       "                input.checked = value;\n",
       "                classData.checked = input.checked\n",
       "            }\n",
       "        }\n",
       "        li.onclick = function (e) {\n",
       "            log('clicked');\n",
       "            classData.setChecked(!classData.checked);\n",
       "            showImage();\n",
       "        }\n",
       "        classControlMap.set(rgbToText(r, g, b), classData);\n",
       "        return li;\n",
       "    }\n",
       "\n",
       "    function findPos(obj) {\n",
       "        var current_left = 0,\n",
       "            current_top = 0;\n",
       "        if (obj.offsetParent) {\n",
       "            do {\n",
       "                current_left += obj.offsetLeft;\n",
       "                current_top += obj.offsetTop;\n",
       "            } while (obj = obj.offsetParent);\n",
       "            return {\n",
       "                x: current_left,\n",
       "                y: current_top\n",
       "            };\n",
       "        }\n",
       "        return undefined;\n",
       "    }\n",
       "\n",
       "    function rgbToHex(r, g, b) {\n",
       "        if (r > 255 || g > 255 || b > 255)\n",
       "            throw \"Invalid color component\";\n",
       "        return ((r << 16) | (g << 8) | b).toString(16);\n",
       "    }\n",
       "\n",
       "    // $('#myCanvas').mouseenter(function () {\n",
       "    // tooltip.style.display = \"block\"\n",
       "    // });\n",
       "\n",
       "    function log(message) {\n",
       "        var label = document.getElementById('label');\n",
       "        label.innerText = message\n",
       "    }\n",
       "\n",
       "    $('#myCanvas').mousemove(function (e) {\n",
       "        var label = document.getElementById('label');\n",
       "        // var tooltip = document.getElementById('tooltip');\n",
       "        var position = findPos(this);\n",
       "        var x = e.pageX - position.x;\n",
       "        var y = e.pageY - position.y;\n",
       "        const bb = this.getBoundingClientRect();\n",
       "        const c_x = Math.floor((event.clientX - bb.left) / bb.width * canvas.width);\n",
       "        const c_y = Math.floor((event.clientY - bb.top) / bb.height * canvas.height);\n",
       "        // var coordinate = \"x=\" + x + \", y=\" + y;\n",
       "        var context = this.getContext('2d');\n",
       "\n",
       "        var p = context.getImageData(c_x, c_y, 1, 1).data;\n",
       "        label.innerText = '(' + c_x + \", \" + c_y + ')';\n",
       "        // label.innerText = '[' + p[0] + \", \" + p[1] + \", \" + p[2] + ']';\n",
       "        // var hex = \"#\" + (\"000000\" + rgbToHex(p[0], p[1], p[2])).slice(-6);\n",
       "        var rgb = '[' + p[0] + \", \" + p[1] + \", \" + p[2] + ']';\n",
       "        // label.innerText = rgb;\n",
       "        // canvas.title = rgb\n",
       "        tooltip.innerText = color_encoding[rgb]\n",
       "        // tooltip.style.display = \"block\"\n",
       "        tooltip.style.left = (x + 10) + \"px\";\n",
       "        tooltip.style.top = (y + 10) + \"px\";\n",
       "    });\n",
       "\n",
       "    $('#context-menu').click(function (e) {\n",
       "        contextMenu.style.display = 'none';\n",
       "    })\n",
       "\n",
       "    $('#myCanvas').click(function (e) {\n",
       "\n",
       "        var position = findPos(this);\n",
       "        var x = e.pageX - position.x;\n",
       "        var y = e.pageY - position.y;\n",
       "        mousePos.x = x;\n",
       "        mousePos.y = y;\n",
       "        tooltip.style.display = 'block';\n",
       "        contextMenu.style.display = 'none';\n",
       "    });\n",
       "\n",
       "    $('#myCanvas').contextmenu(function (e) {\n",
       "        var selectClassEl = document.getElementById('select-class');\n",
       "        var position = findPos(this);\n",
       "        var x = e.pageX - position.x;\n",
       "        var y = e.pageY - position.y;\n",
       "        const bb = this.getBoundingClientRect();\n",
       "        const c_x = Math.floor((event.clientX - bb.left) / bb.width * canvas.width);\n",
       "        const c_y = Math.floor((event.clientY - bb.top) / bb.height * canvas.height);\n",
       "        mousePos.x = c_x;\n",
       "        mousePos.y = c_y;\n",
       "        // var contextMenu = document.getElementById('context-menu');\n",
       "        contextMenu.style.display = 'block';\n",
       "        contextMenu.style.left = (x) + \"px\";\n",
       "        contextMenu.style.top = (y) + \"px\";\n",
       "        selectClassEl.innerText = `Show ${tooltip.innerText} class only`\n",
       "        tooltip.style.display = 'none';\n",
       "    })\n",
       "\n",
       "    $('#myCanvas').mouseenter(function (e) {\n",
       "        tooltip.style.display = 'flex';\n",
       "    })\n",
       "\n",
       "    $('#myCanvas').mouseleave(function (e) {\n",
       "        tooltip.style.display = 'none';\n",
       "    })\n",
       "\n",
       "    // $('#select-class').click(function () {\n",
       "    //     var label = document.getElementById('label');\n",
       "    //     label.innerText = mousePos.x;\n",
       "    //     var context = canvas.getContext('2d');\n",
       "    //     var p = context.getImageData(mousePos.x, mousePos.y, 1, 1).data;\n",
       "    //     showSelectedClass(p[0], p[1], p[2]);\n",
       "    //     // var pRgb = rgbToText(p[0], p[1], p[2]);\n",
       "    //     // const imgData = context.getImageData(0, 0, context.canvas.width, context.canvas.height);\n",
       "    //     // const data = imgData.data;\n",
       "    //     // const newData = [];\n",
       "    //     // var bRgb = rgbToText(0, 0, 0);\n",
       "    //     // // enumerate all pixels\n",
       "    //     // // each pixel's r,g,b,a datum are stored in separate sequential array elements\n",
       "    //     // for (let i = 0; i < data.length; i += 4) {\n",
       "    //     //     const red = data[i];\n",
       "    //     //     const green = data[i + 1];\n",
       "    //     //     const blue = data[i + 2];\n",
       "    //     //     rgb = rgbToText(red, green, blue);\n",
       "    //     //     if (!(rgb === pRgb || rgb === bRgb)) {\n",
       "    //     //         data[i] = 70;\n",
       "    //     //         data[i + 1] = 70;\n",
       "    //     //         data[i + 2] = 70;\n",
       "    //     //     }\n",
       "    //     //     // const alpha = data[i + 3];\n",
       "    //     // }\n",
       "    //     // context.putImageData(imgData, 0, 0);\n",
       "    // })\n",
       "\n",
       "    function showImage() {\n",
       "        var context = canvas.getContext('2d');\n",
       "        var img = new Image();\n",
       "        img.onload = function () {\n",
       "            context.canvas.height = img.height;\n",
       "            context.canvas.width = img.width;\n",
       "            const width = canvas.clientWidth;\n",
       "            const height = canvas.clientHeight;\n",
       "            context.drawImage(img, 0, 0, img.width, img.height);\n",
       "            const imgData = context.getImageData(0, 0, context.canvas.width, context.canvas.height);\n",
       "            const data = imgData.data;\n",
       "            // var newData = [...data];\n",
       "            // log(' pixels')\n",
       "            var bRgb = rgbToText(0, 0, 0);\n",
       "\n",
       "            // enumerate all pixels\n",
       "            // each pixel's r,g,b,a datum are stored in separate sequential array elements\n",
       "            for (let i = 0; i < data.length; i += 4) {\n",
       "                const red = data[i];\n",
       "                const green = data[i + 1];\n",
       "                const blue = data[i + 2];\n",
       "                rgb = rgbToText(red, green, blue);\n",
       "                var classControlData = classControlMap.get(rgb);\n",
       "                if (!classControlData.checked) {\n",
       "                    imgData.data[i] = 10;\n",
       "                    imgData.data[i + 1] = 10;\n",
       "                    imgData.data[i + 2] = 10;\n",
       "                }\n",
       "                // log(classControlData)\n",
       "            }\n",
       "            context.putImageData(imgData, 0, 0);\n",
       "        }\n",
       "        img.src = 'html/land_use_land_cover_map.png';\n",
       "    }\n",
       "\n",
       "    function showSelectedClass(r, g, b) {\n",
       "        var pRgb = rgbToText(r, g, b);\n",
       "        var context = canvas.getContext('2d');\n",
       "        const imgData = context.getImageData(0, 0, context.canvas.width, context.canvas.height);\n",
       "        const data = imgData.data;\n",
       "        // const newData = [...data];\n",
       "        var bRgb = rgbToText(0, 0, 0);\n",
       "        // enumerate all pixels\n",
       "        // each pixel's r,g,b,a datum are stored in separate sequential array elements\n",
       "        for (let i = 0; i < data.length; i += 4) {\n",
       "            const red = data[i];\n",
       "            const green = data[i + 1];\n",
       "            const blue = data[i + 2];\n",
       "            rgb = rgbToText(red, green, blue);\n",
       "            if (!(rgb === pRgb || rgb === bRgb)) {\n",
       "                data[i] = 70;\n",
       "                data[i + 1] = 70;\n",
       "                data[i + 2] = 70;\n",
       "            }\n",
       "        }\n",
       "        context.putImageData(imgData, 0, 0);\n",
       "    }\n",
       "\n",
       "    function rgbToText(r, g, b) {\n",
       "        return `${r} ${g} ${b}`;\n",
       "    }\n",
       "\n",
       "    // $('#myCanvas').mouseleave(function () {\n",
       "    //     tooltip.style.display = \"none\"\n",
       "    // });\n",
       "</script>\n",
       "\n",
       "</html>"
      ],
      "text/plain": [
       "<IPython.core.display.HTML object>"
      ]
     },
     "metadata": {},
     "output_type": "display_data"
    }
   ],
   "source": [
    "display(HTML(os.path.join(html_path, 'index.html')))"
   ]
  },
  {
   "cell_type": "code",
   "execution_count": null,
   "metadata": {},
   "outputs": [],
   "source": [
    "#Read geoTiff into numpy array.\n",
    "gh_np_im = gu.get_l_band(geoTiff, 1)\n",
    "gh_np_im = gh_np_im.reshape(-1, 1)\n",
    "#A map of each pixel and its count is created.\n",
    "#The value is used to calculate the area of each class on the map.\n",
    "class_map = dict()\n",
    "for c in gh_np_im:\n",
    "    if (c != 255):\n",
    "       class_map[c[0]] = class_map.get(c[0], 0) + 1\n",
    "#Map is sorted according to the area each class covers in descending order.\n",
    "class_map = dict(\n",
    "    sorted(class_map.items(), key=lambda item: item[1], reverse=True))\n",
    "classes = []\n",
    "values = []\n",
    "for c in class_map:\n",
    "    classes.append(class_encoding[c])\n",
    "    values.append(class_map[c] * 0.5 * 0.5)"
   ]
  },
  {
   "cell_type": "code",
   "execution_count": 165,
   "metadata": {},
   "outputs": [
    {
     "data": {
      "image/png": "[encoded data removed]",
      "text/plain": [
       "<Figure size 1440x576 with 1 Axes>"
      ]
     },
     "metadata": {
      "needs_background": "light"
     },
     "output_type": "display_data"
    }
   ],
   "source": [
    "# Histogram of classes and the land cover area is plotted.\n",
    "plot_histogram(classes, values)"
   ]
  },
  {
   "cell_type": "code",
   "execution_count": 144,
   "metadata": {},
   "outputs": [
    {
     "data": {
      "image/png": "[encoded data removed]",
      "text/plain": [
       "<Figure size 432x288 with 1 Axes>"
      ]
     },
     "metadata": {
      "needs_background": "light"
     },
     "output_type": "display_data"
    }
   ],
   "source": [
    "# ec = tuple(e for e in color_encoding.get(78))\n",
    "color_tuples = []\n",
    "for key in color_encoding:\n",
    "    color_tuples.append(tuple(e for e in color_encoding.get(key)))\n",
    "iu.display_image([color_tuples])\n"
   ]
  },
  {
   "cell_type": "code",
   "execution_count": 7,
   "metadata": {},
   "outputs": [],
   "source": [
    "def save_image_as_geotiff(mask, destination_path, dataset, output_dtype=gdal.GDT_UInt16, geoTransform=None):\n",
    "    mask = mask.resize((dataset.RasterXSize, dataset.RasterYSize))\n",
    "    array = np.asarray(mask)\n",
    "    nrows, ncols = array.shape[0], array.shape[1]\n",
    "    depth = array.shape[2]\n",
    "    # geotransform = (0, 1024, 0, 0, 0, 512)\n",
    "    # That's (top left x, w-e pixel resolution, rotation (0 if North is up),\n",
    "    #         top left y, rotation (0 if North is up), n-s pixel resolution)\n",
    "    # I don't know why rotation is in twice???\n",
    "    output_raster = gdal.GetDriverByName('GTiff').Create(\n",
    "        destination_path, ncols, nrows, depth, output_dtype)  # Open the file\n",
    "    # print(output_raster)\n",
    "    if geoTransform == None:\n",
    "        geoTransform = dataset.GetGeoTransform()\n",
    "    output_raster.SetGeoTransform(geoTransform)  # Specify its coordinates\n",
    "    output_raster.SetProjection(dataset.GetProjection())\n",
    "    output_raster.SetMetadata(output_raster.GetMetadata())\n",
    "    for x in range(depth):\n",
    "       output_raster.GetRasterBand(x + 1).WriteArray(\n",
    "           array[:, :, x])   # Writes my array to the raster\n",
    "    output_raster.FlushCache()\n",
    "    \n",
    "\n",
    "def save_np_array_as_geoTiff(np_array, destination_path, output_dtype=gdal.GDT_UInt16, geoTransform=None, projection=None, metadata=None):\n",
    "    # np_array = np_array.resize((dataset.RasterXSize, dataset.RasterYSize))\n",
    "    array = np_array\n",
    "    height, width = array.shape[0], array.shape[1]\n",
    "    depth = array.shape[2]\n",
    "    # geotransform = (0, 1024, 0, 0, 0, 512)\n",
    "    # That's (top left x, w-e pixel resolution, rotation (0 if North is up),\n",
    "    #         top left y, rotation (0 if North is up), n-s pixel resolution)\n",
    "    # I don't know why rotation is in twice???\n",
    "    output_raster = gdal.GetDriverByName('GTiff').Create(\n",
    "        destination_path, width, height, depth, output_dtype)  # Open the file\n",
    "    # print(output_raster)\n",
    "    if geoTransform:\n",
    "        output_raster.SetGeoTransform(geoTransform)  # Specify its coordinates\n",
    "    if projection:\n",
    "        output_raster.SetProjection(projection)\n",
    "    if metadata:\n",
    "        output_raster.SetMetadata(metadata)\n",
    "    for x in range(depth):\n",
    "       output_raster.GetRasterBand(x + 1).WriteArray(\n",
    "           array[:, :, x])   # Writes my array to the raster\n",
    "    output_raster.FlushCache()\n",
    "    return output_raster\n"
   ]
  },
  {
   "cell_type": "code",
   "execution_count": 15,
   "metadata": {},
   "outputs": [],
   "source": [
    "save_image_as_geotiff(enc_im, 'enc_im.tif', geoTiff)"
   ]
  },
  {
   "cell_type": "code",
   "execution_count": 3,
   "metadata": {},
   "outputs": [],
   "source": [
    "np_img = gu.get_l_band(geoTiff, 5, 'uint16')"
   ]
  },
  {
   "cell_type": "code",
   "execution_count": 4,
   "metadata": {},
   "outputs": [],
   "source": [
    "np_n_im = (np_img / np_img.max()) * 255"
   ]
  },
  {
   "cell_type": "code",
   "execution_count": null,
   "metadata": {},
   "outputs": [],
   "source": [
    "#Visualize image\n",
    "im = Image.fromarray(np.array(np_n_im.reshape(\n",
    "    np_n_im.shape[0], np_n_im.shape[1]), dtype=np.uint8))\n",
    "im\n"
   ]
  },
  {
   "cell_type": "code",
   "execution_count": 8,
   "metadata": {},
   "outputs": [],
   "source": [
    "gu.save_image_as_geotiff(im, 'data/test.tif', geoTiff)"
   ]
  },
  {
   "cell_type": "code",
   "execution_count": 6,
   "metadata": {},
   "outputs": [],
   "source": [
    "for x in range(6):\n",
    "    np_img = gu.get_l_band(geoTiff, x + 1, 'uint16')\n",
    "    np_n_im = (np_img / np_img.max()) * 255\n",
    "    im = Image.fromarray(np.array(np_n_im.reshape(\n",
    "        np_n_im.shape[0], np_n_im.shape[1]), dtype=np.uint8))\n",
    "    im.save('data/bands/band' + str(x + 1) + '.jpg')\n"
   ]
  },
  {
   "cell_type": "code",
   "execution_count": 8,
   "metadata": {},
   "outputs": [],
   "source": [
    "def reproject_coordinate(x, y, init_proj='epsg:32630', final_proj='epsg:3857'):\n",
    "    inProj = Proj(init=init_proj)\n",
    "    outProj = Proj(init=final_proj)\n",
    "    # x1, y1 = 471309.17540000007, 1236197.3455999997\n",
    "    # x2, y2 = transform(inProj, outProj, x, y)\n",
    "    x, y = transform(inProj, outProj, x, y)\n",
    "    return x, y"
   ]
  },
  {
   "cell_type": "code",
   "execution_count": 9,
   "metadata": {},
   "outputs": [],
   "source": [
    "def reproject_raster(dataset, destination_path, init_proj='epsg:32630', final_proj='epsg:3857'):\n",
    "    ulx_r, xres_r, xskew_r, uly_r, yskew_r, yres_r = dataset.GetGeoTransform()\n",
    "    mask = mask.resize((dataset.RasterXSize, dataset.RasterYSize))\n",
    "    array = np.asarray(mask)\n",
    "    nrows, ncols = np.shape(array)\n",
    "    # geotransform = (0, 1024, 0, 0, 0, 512)\n",
    "    # That's (top left x, w-e pixel resolution, rotation (0 if North is up),\n",
    "    #         top left y, rotation (0 if North is up), n-s pixel resolution)\n",
    "    # I don't know why rotation is in twice???\n",
    "    output_raster = gdal.GetDriverByName('GTiff').Create(\n",
    "        destination_path, ncols, nrows, 1, gdal.GDT_Byte)  # Open the file\n",
    "    # print(output_raster)\n",
    "    output_raster.SetGeoTransform(\n",
    "        dataset.GetGeoTransform())  # Specify its coordinates\n",
    "    output_raster.SetProjection(dataset.GetProjection())\n",
    "    output_raster.SetMetadata(output_raster.GetMetadata())\n",
    "    srs = osr.SpatialReference()                 # Establish its coordinate encoding\n",
    "    # This one specifies WGS84 lat long.\n",
    "    if unit == 'meters':\n",
    "        srs.ImportFromEPSG(3857)\n",
    "    elif unit == 'degrees':\n",
    "        srs.ImportFromEPSG(4326)\n",
    "   # Anyone know how to specify the\n",
    "   # IAU2000:49900 Mars encoding?\n",
    "   # Exports the coordinate system\n",
    "    output_raster.SetProjection(srs.ExportToWkt())\n",
    "   # to the file\n",
    "    output_raster.GetRasterBand(1).WriteArray(\n",
    "        array)   # Writes my array to the raster\n",
    "    output_raster.FlushCache()\n"
   ]
  },
  {
   "cell_type": "code",
   "execution_count": 10,
   "metadata": {},
   "outputs": [],
   "source": [
    "def rep_raster(output_raster, input_raster):\n",
    "    ulx_r, xres_r, xskew_r, uly_r, yskew_r, yres_r = input_raster.GetGeoTransform()\n",
    "    gdal.Warp(output_raster, input_raster, dstSRS='EPSG:32630')\n"
   ]
  },
  {
   "cell_type": "code",
   "execution_count": 11,
   "metadata": {},
   "outputs": [],
   "source": [
    "def get_land_map(ds_real, ds_label, dtype='uint16'):\n",
    "    ulx_r, xres_r, xskew_r, uly_r, yskew_r, yres_r = ds_real.GetGeoTransform()\n",
    "    ulx_l, xres_l, xskew_l, uly_l, yskew_l, yres_l = ds_label.GetGeoTransform()\n",
    "    x_res_ratio = xres_l / xres_r\n",
    "    y_res_ratio = yres_l / yres_r\n",
    "    x_offset = int(abs(ulx_l - ulx_r) / abs(xres_l))\n",
    "    y_offset = int(abs(uly_l - uly_r) / abs(yres_l))\n",
    "    width = ds_real.RasterXSize / x_res_ratio\n",
    "    height = ds_real.RasterYSize / y_res_ratio\n",
    "    print(x_offset, y_offset,\n",
    "          width, height)\n",
    "    label_bands = []\n",
    "    for x in range(ds_label.RasterCount):\n",
    "        band = ds_label.GetRasterBand(x + 1).ReadAsArray(x_offset, y_offset,\n",
    "                                                     int(width), int(height))\n",
    "        label_bands.append(band)\n",
    "    # L = ds_label.GetRasterBand(1).ReadAsArray(x_offset, y_offset,\n",
    "    #     int(width), int(height))\n",
    "    rgbOutput = np.zeros(\n",
    "        (int(height), int(width), ds_label.RasterCount), dtype)\n",
    "    for x in range(len(label_bands)):\n",
    "        rgbOutput[..., x] = label_bands[x]\n",
    "    #Clear so file isn't locked\n",
    "    source = None\n",
    "    return rgbOutput\n"
   ]
  },
  {
   "cell_type": "code",
   "execution_count": 12,
   "metadata": {},
   "outputs": [],
   "source": [
    "def greater(val1, val2):\n",
    "    if val1 > val2:\n",
    "        return val1\n",
    "    else:\n",
    "        return val2\n",
    "\n",
    "def least(val1, val2):\n",
    "    if val1 < val2:\n",
    "        return val1\n",
    "    else:\n",
    "        return val2\n",
    "    \n",
    "def get_corresponding_tile_map(ds_input, ds_output, dtype='uint16'):\n",
    "    xmin_i, xres_i, xskew_r, ymin_i, yskew_r, yres_i = ds_input.GetGeoTransform()\n",
    "    xmin_o, xres_o, xskew_o, ymin_o, yskew_o, yres_o = ds_output.GetGeoTransform()\n",
    "    xmax_i = xmin_i + (abs(xres_i) * ds_input.RasterXSize)\n",
    "    ymax_i = ymin_i + (abs(yres_i) * ds_input.RasterYSize)\n",
    "    #output max\n",
    "    xmax_o = xmin_o + (abs(xres_o) * ds_output.RasterXSize)\n",
    "    ymax_o = ymin_o + (abs(yres_o) * ds_output.RasterYSize)\n",
    "    x_offset = (xmin_i - xmin_o) / xres_o\n",
    "    y_offset = (ymin_i - ymin_o) / yres_o\n",
    "    if x_offset < 0:\n",
    "        x_offset = 0\n",
    "    if y_offset < 0:\n",
    "        y_offset = 0\n",
    "    xmin = greater(xmin_i, xmin_o)\n",
    "    xmax = least(xmax_i, xmax_o)\n",
    "    ymin = least(ymin_i, ymin_o)\n",
    "    ymax = least(ymax_i, ymax_o)\n",
    "    print(xmin, xmax, ymin, ymax)\n",
    "    width = (xmax - xmin) / abs(xres_o)\n",
    "    height = (ymax - ymin) / abs(yres_o)\n",
    "    print(x_offset, y_offset, width, height)\n",
    "    # band = ds_output.GetRasterBand(1).ReadAsArray(x_offset, y_offset,\n",
    "    #                                                   int(width), int(height))\n",
    "    # rgbOutput = np.zeros(\n",
    "    #     (int(height), int(width), 1), dtype)\n",
    "    # rgbOutput[..., 0] = band\n",
    "    label_bands = []\n",
    "    for x in range(ds_output.RasterCount):\n",
    "        band = ds_output.GetRasterBand(x + 1).ReadAsArray(x_offset, y_offset,\n",
    "                                                         int(width), int(height))\n",
    "        label_bands.append(band)\n",
    "    # L = ds_label.GetRasterBand(1).ReadAsArray(x_offset, y_offset,\n",
    "    #     int(width), int(height))\n",
    "    output = np.zeros(\n",
    "        (int(height), int(width), ds_output.RasterCount), dtype)\n",
    "    for x in range(len(label_bands)):\n",
    "        output[..., x] = label_bands[x]\n",
    "    #Clear so file isn't locked\n",
    "    source = None\n",
    "    return output, (xmin, xres_o, xskew_o, ymin, yskew_o, yres_o)\n"
   ]
  },
  {
   "cell_type": "code",
   "execution_count": 93,
   "metadata": {},
   "outputs": [
    {
     "name": "stderr",
     "output_type": "stream",
     "text": [
      "ERROR 4: tiff_sentinel_rep.tif: No such file or directory\n"
     ]
    }
   ],
   "source": [
    "# geoTiff_real = gdal.Open(\n",
    "#     '/Users/ernestopoku-kwarteng/Downloads/Sentinel Projected/Sentinel_2_Proj.tif', gdal.GA_ReadOnly)\n",
    "geoTiff_real = gdal.Open(\n",
    "    'tiff_sentinel_rep.tif', gdal.GA_ReadOnly)\n",
    "geoTiff_label = gdal.Open(\n",
    "    '/Users/ernestopoku-kwarteng/Downloads/points/Final_RLCM_Ghana_2017/Final_RLCM_Ghana_2017.tif', gdal.GA_ReadOnly)\n"
   ]
  },
  {
   "cell_type": "code",
   "execution_count": 113,
   "metadata": {},
   "outputs": [],
   "source": [
    "for x in range(6):\n",
    "    np_img = gu.get_l_band(geoTiff_real, x + 1, 'uint16')\n",
    "    max = np_img.max()\n",
    "    # print(max)\n",
    "    np_n_im = (np_img / max) * 255\n",
    "    im = Image.fromarray(np.array(np_n_im.reshape(\n",
    "        np_n_im.shape[0], np_n_im.shape[1]), dtype=np.uint8))\n",
    "    im.save('data/bands/band' + str(x + 1) + '.jpg')\n"
   ]
  },
  {
   "cell_type": "code",
   "execution_count": 44,
   "metadata": {},
   "outputs": [],
   "source": [
    "rep_raster('tiff_rep.tif', geoTiff_real)"
   ]
  },
  {
   "cell_type": "code",
   "execution_count": 52,
   "metadata": {},
   "outputs": [
    {
     "data": {
      "text/plain": [
       "(447652.8059976852,\n",
       " 29.9312295943703,\n",
       " 0.0,\n",
       " 1253712.3269233608,\n",
       " 0.0,\n",
       " -29.9312295943703)"
      ]
     },
     "execution_count": 52,
     "metadata": {},
     "output_type": "execute_result"
    }
   ],
   "source": [
    "geoTiff_real.GetGeoTransform()"
   ]
  },
  {
   "cell_type": "code",
   "execution_count": 49,
   "metadata": {},
   "outputs": [
    {
     "data": {
      "text/plain": [
       "(471309.17540000007, 500.0, 0.0, 1236197.3455999997, 0.0, -500.0)"
      ]
     },
     "execution_count": 49,
     "metadata": {},
     "output_type": "execute_result"
    }
   ],
   "source": [
    "geoTiff_label.GetGeoTransform()"
   ]
  },
  {
   "cell_type": "code",
   "execution_count": null,
   "metadata": {},
   "outputs": [],
   "source": [
    "reproject_coordinate(-156543.03390004113, 684875.7733463161,\n",
    "                     'epsg:3857', 'epsg:32630')"
   ]
  },
  {
   "cell_type": "code",
   "execution_count": 16,
   "metadata": {},
   "outputs": [
    {
     "data": {
      "text/plain": [
       "(471309.17540000007, 500.0, 0.0, 1236197.3455999997, 0.0, -500.0)"
      ]
     },
     "execution_count": 16,
     "metadata": {},
     "output_type": "execute_result"
    }
   ],
   "source": [
    "geoTiff_real.GetGeoTransform()"
   ]
  },
  {
   "cell_type": "code",
   "execution_count": null,
   "metadata": {},
   "outputs": [],
   "source": [
    "np_im = get_land_map(geoTiff_real, geoTiff_label, 'uint8')\n",
    "# np_n_im = np.array((np_im / np_im.max()) * 255, dtype = \"uint8\")\n",
    "Image.fromarray(np_n_im.reshape(np_im.shape[0], np_im.shape[1]))\n"
   ]
  },
  {
   "cell_type": "code",
   "execution_count": 97,
   "metadata": {},
   "outputs": [
    {
     "name": "stdout",
     "output_type": "stream",
     "text": [
      "471309.17540000007 965309.1754000001 1236197.3455999997 1948697.3455999997\n",
      "790.3574200895629 585.1741328614016 16504.500706944407 23804.568327323665\n"
     ]
    }
   ],
   "source": [
    "np_im, geo_transform = get_corresponding_tile_map(geoTiff_label, geoTiff_real, 'uint16')"
   ]
  },
  {
   "cell_type": "code",
   "execution_count": 106,
   "metadata": {},
   "outputs": [
    {
     "data": {
      "text/plain": [
       "13029"
      ]
     },
     "execution_count": 106,
     "metadata": {},
     "output_type": "execute_result"
    }
   ],
   "source": [
    "np_im.max()"
   ]
  },
  {
   "cell_type": "code",
   "execution_count": 110,
   "metadata": {},
   "outputs": [],
   "source": [
    "save_image_as_geotiff(np_im, 'tiff_sentinel_rep.tif', geoTiff_real, geoTransform=geo_transform)"
   ]
  },
  {
   "cell_type": "code",
   "execution_count": null,
   "metadata": {},
   "outputs": [],
   "source": [
    "Image.fromarray(np_im.reshape(np_im.shape[0], np_im.shape[1]))"
   ]
  },
  {
   "cell_type": "code",
   "execution_count": null,
   "metadata": {},
   "outputs": [],
   "source": [
    "Image.fromarray(np_im[:, :,0])"
   ]
  },
  {
   "cell_type": "code",
   "execution_count": 14,
   "metadata": {},
   "outputs": [
    {
     "name": "stdout",
     "output_type": "stream",
     "text": [
      "[[1, 0, 0, 0, 0], [0, 1, 0, 0, 0], [0, 0, 0, 0, 1], [1, 0, 0, 0, 0], [0, 0, 1, 0, 0], [1, 0, 0, 0, 0]]\n"
     ]
    }
   ],
   "source": [
    "### Categorical data to be converted to numeric data\n",
    "colors = [\"red\", \"green\", \"yellow\", \"red\", \"blue\", \"red\"]\n",
    "\n",
    "### Universal list of colors\n",
    "total_colors = [\"red\", \"green\", \"blue\", \"black\", \"yellow\"]\n",
    "\n",
    "### map each color to an integer\n",
    "mapping = {}\n",
    "for x in range(len(total_colors)):\n",
    "  mapping[total_colors[x]] = x\n",
    "\n",
    "one_hot_encode = []\n",
    "\n",
    "for c in colors:\n",
    "  arr = list(np.zeros(len(total_colors), dtype=int))\n",
    "  arr[mapping[c]] = 1\n",
    "  one_hot_encode.append(arr)\n",
    "\n",
    "print(one_hot_encode)\n"
   ]
  },
  {
   "cell_type": "code",
   "execution_count": 3,
   "metadata": {},
   "outputs": [],
   "source": [
    "from tifffile import tifffile\n",
    "image = tifffile.imread(\n",
    "    '/Users/ernestopoku-kwarteng/Downloads/Sentinel Projected/Sentinel_2_Proj.tif')\n"
   ]
  },
  {
   "cell_type": "code",
   "execution_count": 13,
   "metadata": {},
   "outputs": [],
   "source": [
    "def get_rgb_bands(tiff, color_depth='uint8'):\n",
    "    red = tiff.GetRasterBand(1).ReadAsArray()\n",
    "    green = tiff.GetRasterBand(2).ReadAsArray()\n",
    "    blue = tiff.GetRasterBand(3).ReadAsArray()\n",
    "    #rgbOutput = source.ReadAsArray() #Easier method\n",
    "    rgbOutput = np.zeros((tiff.RasterYSize, tiff.RasterXSize, 3), color_depth)\n",
    "    # rgbOutput[..., 0] = red\n",
    "    # rgbOutput[..., 1] = green\n",
    "    # rgbOutput[..., 2] = blue\n",
    "    rgbOutput[..., 0] = blue\n",
    "    rgbOutput[..., 1] = green\n",
    "    rgbOutput[..., 2] = red\n",
    "    #Clear so file isn't locked\n",
    "    source = None\n",
    "    return rgbOutput\n",
    "\n",
    "\n",
    "def get_rgb_bands(tiff, color_depth='uint8'):\n",
    "    red = tiff.GetRasterBand(1).ReadAsArray()\n",
    "    green = tiff.GetRasterBand(2).ReadAsArray()\n",
    "    blue = tiff.GetRasterBand(3).ReadAsArray()\n",
    "    #rgbOutput = source.ReadAsArray() #Easier method\n",
    "    rgbOutput = np.zeros((tiff.RasterYSize, tiff.RasterXSize, 3), color_depth)\n",
    "    # rgbOutput[..., 0] = red\n",
    "    # rgbOutput[..., 1] = green\n",
    "    # rgbOutput[..., 2] = blue\n",
    "    rgbOutput[..., 0] = blue\n",
    "    rgbOutput[..., 1] = green\n",
    "    rgbOutput[..., 2] = red\n",
    "    #Clear so file isn't locked\n",
    "    source = None\n",
    "    return rgbOutput\n"
   ]
  },
  {
   "cell_type": "code",
   "execution_count": 95,
   "metadata": {},
   "outputs": [],
   "source": [
    "def read_geoTiff_bands(geoTiff, dtype='uint16'):\n",
    "    width = geoTiff.RasterXSize\n",
    "    height = geoTiff.RasterYSize\n",
    "    bands = []\n",
    "    for x in range(geoTiff.RasterCount):\n",
    "        band = geoTiff.GetRasterBand(x + 1).ReadAsArray()\n",
    "        bands.append(band)\n",
    "    output = np.zeros(\n",
    "        (int(height), int(width), geoTiff.RasterCount), dtype)\n",
    "    for x in range(len(bands)):\n",
    "        output[..., x] = bands[x]\n",
    "    return output\n",
    "\n",
    "def display_geoTiff(geoTiff, dtype='uint16'):\n",
    "    np_rgb_image = get_rgb_bands(geoTiff, dtype)\n",
    "    np_n_im = (np_rgb_image / np_rgb_image.max()) * 255\n",
    "    im = Image.fromarray(np.array(np_n_im, dtype=np.uint8))\n",
    "    return im\n",
    "\n",
    "def display_np_geoTiff(np_geoTiff):\n",
    "    np_rgb_image = np_geoTiff[:, :, 0:3][:, :, ::-1]\n",
    "    np_n_im = (np_rgb_image / np_rgb_image.max()) * 255\n",
    "    im = Image.fromarray(np.array(np_n_im, dtype=np.uint8))\n",
    "    return im\n",
    "        \n",
    "def crop_geoTiff(geoTiff, left, top, right, bottom, dtype ='uint16'):\n",
    "    width = abs(right - left)\n",
    "    height = abs(top - bottom)\n",
    "    bands = []\n",
    "    for x in range(geoTiff.RasterCount):\n",
    "        band = geoTiff.GetRasterBand(x + 1).ReadAsArray(left, top,\n",
    "                                                        int(width), int(height))\n",
    "        bands.append(band)\n",
    "    output = np.zeros(\n",
    "        (int(height), int(width), geoTiff.RasterCount), dtype)\n",
    "    for x in range(len(bands)):\n",
    "        output[..., x] = bands[x]\n",
    "    return output\n",
    "        \n",
    "# Splits image into specified rows and columns\n",
    "def split_geoTiff_image(geoTiff, row_count, col_count):\n",
    "    parts = []\n",
    "    width, height = geoTiff.RasterXSize, geoTiff.RasterYSize\n",
    "    left = 0\n",
    "    top = 0\n",
    "    right = width / col_count\n",
    "    bottom = height / row_count\n",
    "    # bands = read_geoTiff_bands(geoTiff)\n",
    "    for r in range(row_count):\n",
    "        top = int(r * (height / row_count))\n",
    "        bottom = int(top + (height / row_count))\n",
    "        for c in range(col_count):\n",
    "            left = int(c * (width / col_count))\n",
    "            right = int(left + (width / col_count))\n",
    "            part = crop_geoTiff(geoTiff, left, top, right, bottom)\n",
    "            parts.append(part)\n",
    "    return parts\n",
    "\n",
    "# Splits image into specified rows and columns\n",
    "def split_image(image, row_count, col_count):\n",
    "    parts = []\n",
    "    width, height = image.size\n",
    "    left = 0\n",
    "    top = 0\n",
    "    right = width / col_count\n",
    "    bottom = height / row_count\n",
    "    for r in range(row_count):\n",
    "        top = int(r * (height / row_count))\n",
    "        bottom = int(top + (height / row_count))\n",
    "        for c in range(col_count):\n",
    "            left = int(c * (width / col_count))\n",
    "            right = int(left + (width / col_count))\n",
    "            part = image.crop((left, top, right, bottom))\n",
    "            parts.append(part)\n",
    "    return parts\n"
   ]
  },
  {
   "cell_type": "code",
   "execution_count": 31,
   "metadata": {},
   "outputs": [
    {
     "name": "stdout",
     "output_type": "stream",
     "text": [
      "(2, 3, 3)\n",
      "[[[  0   0 255]\n",
      "  [  0 255   0]\n",
      "  [255   0   0]]\n",
      "\n",
      " [[  0   0 255]\n",
      "  [  0 255   0]\n",
      "  [255   0   0]]]\n"
     ]
    }
   ],
   "source": [
    "rgb_image = np.array([[[255, 0, 0], [0, 255, 0], [0, 0, 255]],\n",
    "                      [[255, 0, 0], [0, 255, 0], [0, 0, 255]]], dtype=np.uint8)\n",
    "print(rgb_image.shape)  # Output: (2, 3, 3)\n",
    "\n",
    "# Invert the color channels to convert the image to BGR format\n",
    "bgr_image = rgb_image[:, :, ::-1]\n",
    "print(bgr_image)  # Output: (2, 3, 3)\n"
   ]
  },
  {
   "cell_type": "code",
   "execution_count": 7,
   "metadata": {},
   "outputs": [],
   "source": [
    "# stores the path of an image and a mask pair\n",
    "class DataLabelPair:\n",
    "    def __init__(self, data_real_path, label_path):\n",
    "        self.data_real_path = data_real_path\n",
    "        self.label_path = label_path"
   ]
  },
  {
   "cell_type": "code",
   "execution_count": 21,
   "metadata": {},
   "outputs": [],
   "source": [
    "geoTiff = gdal.Open(os.path.join(data_path, 'Final_RLCM_Ghana_2017.tif'))\n",
    "np_img = gu.get_l_band(geoTiff, 1)\n",
    "img = Image.fromarray(np_img.reshape(np_img.shape[0], np_img.shape[1]))\n",
    "img = img.resize((16504, 23804), resample=Image.BOX)\n",
    "img.save('Final_RLCM_Ghana_2017.png')\n"
   ]
  },
  {
   "cell_type": "code",
   "execution_count": 94,
   "metadata": {},
   "outputs": [],
   "source": [
    "import PIL\n",
    "PIL.Image.MAX_IMAGE_PIXELS = 392861216\n",
    "real_image = gdal.Open(os.path.join(\n",
    "    real_data_path, 'Sentinel_2_2017_cropped.tif'))\n",
    "mask_image = iu.read_image(os.path.join(\n",
    "    mask_data_path, 'Final_RLCM_Ghana_2017.png'))"
   ]
  },
  {
   "cell_type": "code",
   "execution_count": 96,
   "metadata": {},
   "outputs": [],
   "source": [
    "rgt = read_geoTiff_bands(real_image)"
   ]
  },
  {
   "cell_type": "code",
   "execution_count": 97,
   "metadata": {},
   "outputs": [
    {
     "data": {
      "text/plain": [
       "13029"
      ]
     },
     "execution_count": 97,
     "metadata": {},
     "output_type": "execute_result"
    }
   ],
   "source": [
    "rgt.max()"
   ]
  },
  {
   "cell_type": "code",
   "execution_count": 20,
   "metadata": {},
   "outputs": [],
   "source": [
    "#Get all unique pixels in the land map image\n",
    "np_mask_image = np.asarray(mask_image)\n",
    "unique_pixels = np.unique(np_mask_image)\n",
    "pixel_map = dict()\n",
    "for x in range(len(unique_pixels)):\n",
    "    pixel_map[unique_pixels[x]] = x\n"
   ]
  },
  {
   "cell_type": "code",
   "execution_count": 21,
   "metadata": {},
   "outputs": [
    {
     "data": {
      "text/plain": [
       "{2: 0,\n",
       " 3: 1,\n",
       " 6: 2,\n",
       " 7: 3,\n",
       " 8: 4,\n",
       " 9: 5,\n",
       " 10: 6,\n",
       " 11: 7,\n",
       " 12: 8,\n",
       " 13: 9,\n",
       " 14: 10,\n",
       " 15: 11,\n",
       " 16: 12,\n",
       " 17: 13,\n",
       " 18: 14,\n",
       " 19: 15,\n",
       " 21: 16,\n",
       " 22: 17,\n",
       " 24: 18,\n",
       " 25: 19,\n",
       " 31: 20,\n",
       " 32: 21,\n",
       " 78: 22,\n",
       " 255: 23}"
      ]
     },
     "execution_count": 21,
     "metadata": {},
     "output_type": "execute_result"
    }
   ],
   "source": [
    "pixel_map"
   ]
  },
  {
   "cell_type": "code",
   "execution_count": 23,
   "metadata": {},
   "outputs": [
    {
     "data": {
      "text/plain": [
       "(23804, 16504)"
      ]
     },
     "execution_count": 23,
     "metadata": {},
     "output_type": "execute_result"
    }
   ],
   "source": [
    "np_mask_image.shape"
   ]
  },
  {
   "cell_type": "code",
   "execution_count": 25,
   "metadata": {},
   "outputs": [],
   "source": [
    "#The land map image pixel values are remapped to consecutive numbers.\n",
    "np_flat_mask_image = np_mask_image.reshape(-1, 1)\n",
    "#\n",
    "new_np_image = []\n",
    "for x in range(np_mask_image.shape[0] * np_mask_image.shape[1]):\n",
    "    new_np_image.append(pixel_map.get(np_flat_mask_image[x][0]))\n",
    "#A new land map image is created.\n",
    "np_mask_image = np.array(new_np_image).reshape(\n",
    "        np_mask_image.shape[0], np_mask_image.shape[1])\n",
    "np_flat_mask_image = None\n",
    "new_np_image = None\n"
   ]
  },
  {
   "cell_type": "code",
   "execution_count": 31,
   "metadata": {},
   "outputs": [
    {
     "data": {
      "text/plain": [
       "array([ 0,  1,  2,  3,  4,  5,  6,  7,  8,  9, 10, 11, 12, 13, 14, 15, 16,\n",
       "       17, 18, 19, 20, 21, 22, 23])"
      ]
     },
     "execution_count": 31,
     "metadata": {},
     "output_type": "execute_result"
    }
   ],
   "source": [
    "np.unique(np_mask_image)"
   ]
  },
  {
   "cell_type": "code",
   "execution_count": 36,
   "metadata": {},
   "outputs": [],
   "source": [
    "new_landmap_image.save('Final_RLCM_Remapped_Ghana_2017.png')\n"
   ]
  },
  {
   "cell_type": "code",
   "execution_count": 17,
   "metadata": {},
   "outputs": [],
   "source": [
    "\n",
    "# images are divided into 9 parts and saved on disk.\n",
    "# This reduces the dimension of the images and also increases the training data.\n",
    "iu.create_dir_if_not_exists(mask_divided_data_path)\n",
    "iu.create_dir_if_not_exists(real_divided_data_path)\n",
    "iu.create_dir_if_not_exists(mask_divided_data_path)\n",
    "\n",
    "row_count = 148\n",
    "col_count = 103\n",
    "part_count = col_count * row_count\n",
    "real_image_parts = split_geoTiff_image(real_image, row_count, col_count)\n",
    "mask_image_parts = split_image(mask_image, row_count, col_count)\n",
    "for x in range(part_count):\n",
    "    part_filename = str(uuid.uuid4())\n",
    "    real_image_part = real_image_parts[x]\n",
    "    mask_image_part = mask_image_parts[x]\n",
    "    #\n",
    "    # Save the arrays to a .npz file\n",
    "    np.savez(os.path.join(\n",
    "        real_divided_data_path, part_filename + '.npz'), array1=real_image_part)\n",
    "    # save_np_array_as_geoTiff(real_image_part, os.path.join(\n",
    "    #     real_divided_data_path, part_filename + '.tif'))\n",
    "    mask_image_part.save(os.path.join(\n",
    "        mask_divided_data_path, part_filename + '.png'))\n"
   ]
  },
  {
   "cell_type": "code",
   "execution_count": 18,
   "metadata": {},
   "outputs": [],
   "source": [
    "#Images that do not contain any information is deleted from storage.\n",
    "divided_images_path = iu.get_all_files(mask_divided_data_path)"
   ]
  },
  {
   "cell_type": "code",
   "execution_count": 19,
   "metadata": {},
   "outputs": [
    {
     "data": {
      "text/plain": [
       "15244"
      ]
     },
     "execution_count": 19,
     "metadata": {},
     "output_type": "execute_result"
    }
   ],
   "source": [
    "len(divided_images_path)\n"
   ]
  },
  {
   "cell_type": "code",
   "execution_count": 20,
   "metadata": {},
   "outputs": [
    {
     "name": "stdout",
     "output_type": "stream",
     "text": [
      "4548 files deleted\n"
     ]
    }
   ],
   "source": [
    "del_count = 0\n",
    "for image_path in divided_images_path:\n",
    "    mask_image = iu.read_image(os.path.join(mask_divided_data_path, image_path))\n",
    "    np_mask_image = np.asarray(mask_image)\n",
    "    if np_mask_image.min() == 23:\n",
    "        os.remove(os.path.join(real_divided_data_path, image_path.replace('.png', '.npz')))\n",
    "        os.remove(os.path.join(mask_divided_data_path, image_path))\n",
    "        del_count += 1\n",
    "print(del_count, 'files deleted')\n"
   ]
  },
  {
   "cell_type": "code",
   "execution_count": 21,
   "metadata": {},
   "outputs": [],
   "source": [
    "divided_images_path = iu.get_all_files(real_divided_data_path)"
   ]
  },
  {
   "cell_type": "code",
   "execution_count": 22,
   "metadata": {},
   "outputs": [],
   "source": [
    "images_divided = []\n",
    "for path in divided_images_path:\n",
    "    image = DataLabelPair(os.path.join(real_divided_data_path, path),\n",
    "                          os.path.join(mask_divided_data_path, path))\n",
    "    images_divided.append(image)\n"
   ]
  },
  {
   "cell_type": "code",
   "execution_count": 42,
   "metadata": {},
   "outputs": [
    {
     "data": {
      "image/png": "[encoded data removed]",
      "text/plain": [
       "<PIL.Image.Image image mode=RGB size=160x160 at 0x7FD67E962F40>"
      ]
     },
     "execution_count": 42,
     "metadata": {},
     "output_type": "execute_result"
    }
   ],
   "source": [
    "#20  12\n",
    "indx = 5\n",
    "loaded = np.load(images_divided[indx].data_real_path, allow_pickle=True)\n",
    "display_np_geoTiff(loaded['array1'])\n",
    "# display_geoTiff(gdal.Open(images_divided[indx].data_real_path))\n"
   ]
  },
  {
   "cell_type": "code",
   "execution_count": 46,
   "metadata": {},
   "outputs": [
    {
     "data": {
      "image/png": "[encoded data removed]",
      "text/plain": [
       "<PIL.Image.Image image mode=RGB size=160x160 at 0x7FD67E928C10>"
      ]
     },
     "execution_count": 46,
     "metadata": {},
     "output_type": "execute_result"
    }
   ],
   "source": [
    "np_gh_img = np.asarray(iu.read_image(\n",
    "    images_divided[indx].label_path.replace('.npz', '.png')))\n",
    "display_legend(np_gh_img, new_color_encoding)"
   ]
  },
  {
   "cell_type": "code",
   "execution_count": null,
   "metadata": {},
   "outputs": [],
   "source": [
    "display_legend(np.asarray(iu.read_image(\n",
    "    'data/segmentation/original/mask/Final_RLCM_Ghana_2017.png')), new_color_encoding)"
   ]
  },
  {
   "cell_type": "code",
   "execution_count": 47,
   "metadata": {},
   "outputs": [],
   "source": [
    "#numpy utils\n",
    "def flip_np_image_left_right(np_image):\n",
    "    # Flip the array from left to right\n",
    "    return np.fliplr(np_image)\n",
    "\n",
    "\n",
    "def rotate_np_image(np_image, angle):\n",
    "    return np.rot90(np_image, k=int((360 - angle) / 90))\n",
    "\n",
    "def resize_np_image(np_image, size):\n",
    "    height, width = size\n",
    "    no_channels = np_image.shape[2]\n",
    "    output = np.zeros(\n",
    "        (int(height), int(width), no_channels), str(np_image.dtype))\n",
    "    for x in range(no_channels):\n",
    "        channel = np.array(np_image[:, :, x], str(np_image.dtype))\n",
    "        channel_image = Image.fromarray(channel)\n",
    "        channel_image = channel_image.resize((width, height))\n",
    "        channel = np.asarray(channel_image)\n",
    "        output[..., x] = channel\n",
    "    return output\n"
   ]
  },
  {
   "cell_type": "code",
   "execution_count": 262,
   "metadata": {},
   "outputs": [],
   "source": [
    "np_gt = read_geoTiff_bands(gdal.Open(images_divided[indx].data_real_path))\n",
    "# display_geoTiff(save_np_array_as_geoTiff)\n"
   ]
  },
  {
   "cell_type": "code",
   "execution_count": 61,
   "metadata": {},
   "outputs": [],
   "source": [
    "# Augments images by rotation.\n",
    "def aug_image(image, new_size=None):\n",
    "    width, height = image.size\n",
    "    if new_size == None:\n",
    "        new_size = (width, height)\n",
    "    images_augmented = []\n",
    "    image = image.resize(new_size)\n",
    "    new_im = image\n",
    "    images_augmented.append(new_im)\n",
    "    images_augmented.append(new_im.rotate(90))\n",
    "    images_augmented.append(new_im.rotate(180))\n",
    "    images_augmented.append(new_im.rotate(270))\n",
    "    new_im = image.transpose(Image.FLIP_LEFT_RIGHT)\n",
    "    images_augmented.append(new_im)\n",
    "    images_augmented.append(new_im.rotate(90))\n",
    "    images_augmented.append(new_im.rotate(180))\n",
    "    images_augmented.append(new_im.rotate(270))\n",
    "    return images_augmented\n",
    "\n",
    "\n",
    "def aug_np_image(np_image, new_size=None):\n",
    "    height, width , channels = np_image.shape[0], np_image.shape[1], np_image.shape[2]\n",
    "    if new_size == None:\n",
    "        new_size = (height, width)\n",
    "    np_images_aug = []\n",
    "    np_image = resize_np_image(np_image, new_size)\n",
    "    new_np_im = np_image\n",
    "    np_images_aug.append(new_np_im)\n",
    "    np_images_aug.append(rotate_np_image(new_np_im, 90))\n",
    "    np_images_aug.append(rotate_np_image(new_np_im, 180))\n",
    "    np_images_aug.append(rotate_np_image(new_np_im, 270))\n",
    "    new_np_im = flip_np_image_left_right(np_image)\n",
    "    np_images_aug.append(new_np_im)\n",
    "    np_images_aug.append(rotate_np_image(new_np_im, 90))\n",
    "    np_images_aug.append(rotate_np_image(new_np_im, 180))\n",
    "    np_images_aug.append(rotate_np_image(new_np_im, 270))\n",
    "    return np_images_aug\n"
   ]
  },
  {
   "cell_type": "code",
   "execution_count": 57,
   "metadata": {},
   "outputs": [],
   "source": [
    "def load_numpy_file(path):\n",
    "    loaded = np.load(path, allow_pickle=True)\n",
    "    return loaded['array1']\n",
    "\n",
    "def save_numpy_file(np_arr,path):\n",
    "    np.savez(path, array1=np_arr)\n"
   ]
  },
  {
   "cell_type": "code",
   "execution_count": 53,
   "metadata": {},
   "outputs": [],
   "source": [
    "divided_images_path = iu.get_all_files(real_divided_data_path)"
   ]
  },
  {
   "cell_type": "code",
   "execution_count": 55,
   "metadata": {},
   "outputs": [],
   "source": [
    "images_divided = []\n",
    "for path in divided_images_path:\n",
    "    image = DataLabelPair(os.path.join(real_divided_data_path, path),\n",
    "                          os.path.join(mask_divided_data_path, path.replace('.npz', '.png')))\n",
    "    images_divided.append(image)"
   ]
  },
  {
   "cell_type": "code",
   "execution_count": 62,
   "metadata": {},
   "outputs": [],
   "source": [
    "# images are augmented and saved on disk.\n",
    "iu.create_dir_if_not_exists(final_data_path)\n",
    "iu.create_dir_if_not_exists(real_final_data_path)\n",
    "iu.create_dir_if_not_exists(mask_final_data_path)\n",
    "for image in images_divided:\n",
    "    real_image = load_numpy_file(image.data_real_path)\n",
    "    mask_image = iu.read_image(image.label_path, 'L')\n",
    "    real_aug_images = aug_np_image(real_image, (160, 160))\n",
    "    mask_aug_images = aug_image(mask_image, (160, 160))\n",
    "    for x in range(len(real_aug_images)):\n",
    "        part_filename = str(uuid.uuid4())\n",
    "        real_image_part = real_aug_images[x]\n",
    "        mask_image_part = mask_aug_images[x]\n",
    "        #\n",
    "        save_numpy_file(real_image_part, os.path.join(\n",
    "            real_final_data_path, part_filename + '.npz'))\n",
    "        mask_image_part.save(os.path.join(\n",
    "            mask_final_data_path, part_filename + '.png'))\n"
   ]
  },
  {
   "cell_type": "code",
   "execution_count": 18,
   "metadata": {},
   "outputs": [
    {
     "name": "stdout",
     "output_type": "stream",
     "text": [
      "loss0 =  tf.Tensor([0.10536055 0.22314353], shape=(2,), dtype=float32) loss1 =  tf.Tensor([0.10536067 0.22314355], shape=(2,), dtype=float32)\n"
     ]
    }
   ],
   "source": [
    "# Categorical cross entropy\n",
    "y_true = [[0, 1, 0], [0, 0, 1]]  # One-hot encoded labels\n",
    "y_pred = [[0.1, 0.9, 0], [0.1, 0.1, 0.8]]  # Predicted probabilities\n",
    "loss0 = tf.losses.categorical_crossentropy(y_true, y_pred)\n",
    "\n",
    "# Sparse categorical cross entropy\n",
    "y_true = [1, 2]  # Integer labels\n",
    "y_pred = [[0.1, 0.9, 0], [0.1, 0.1, 0.8]]  # Predicted probabilities\n",
    "loss1 = tf.losses.sparse_categorical_crossentropy(y_true, y_pred)\n",
    "print('loss0 = ', loss0, 'loss1 = ', loss1)"
   ]
  },
  {
   "cell_type": "code",
   "execution_count": null,
   "metadata": {},
   "outputs": [],
   "source": [
    "import rasterio\n",
    "import numpy as np\n",
    "\n",
    "\n",
    "def preprocess_data(data):\n",
    "    # Add your preprocessing function here\n",
    "    return data\n",
    "\n",
    "\n",
    "class DataGenerator:\n",
    "    def __init__(self, filepath, mask_filepath, batch_size):\n",
    "        self.filepath = filepath\n",
    "        self.mask_filepath = mask_filepath\n",
    "        self.batch_size = batch_size\n",
    "\n",
    "    def __iter__(self):\n",
    "        with rasterio.open(self.filepath) as src:\n",
    "            data = src.read()\n",
    "            data = preprocess_data(data)\n",
    "            with rasterio.open(self.mask_filepath) as mask:\n",
    "                mask_data = mask.read()\n",
    "                for i in range(0, data.shape[0], self.batch_size):\n",
    "                    data_batch = data[i:i + self.batch_size]\n",
    "                    mask_batch = mask_data[i:i + self.batch_size]\n",
    "                    yield (data_batch, mask_batch)\n",
    "\n",
    "\n",
    "# Example usage\n",
    "generator = DataGenerator(\n",
    "    'path/to/file.tiff', 'path/to/mask.tiff', batch_size=32)\n",
    "for data, mask in generator:\n",
    "    print(data.shape)  # should output (batch_size, 6, height, width)\n",
    "    print(mask.shape)  # should output (batch_size, 1, height, width)"
   ]
  },
  {
   "cell_type": "code",
   "execution_count": null,
   "metadata": {},
   "outputs": [],
   "source": [
    "import numpy as np\n",
    "import rasterio\n",
    "from keras.utils import Sequence\n",
    "\n",
    "\n",
    "class GeoTIFFDataGenerator(Sequence):\n",
    "    def __init__(self, image_filenames, labels, batch_size=32, image_size=(256, 256)):\n",
    "        self.image_filenames = image_filenames\n",
    "        self.labels = labels\n",
    "        self.batch_size = batch_size\n",
    "        self.image_size = image_size\n",
    "\n",
    "    def __len__(self):\n",
    "        return int(np.ceil(len(self.image_filenames) / float(self.batch_size)))\n",
    "\n",
    "    def __getitem__(self, idx):\n",
    "        batch_x = self.image_filenames[idx *\n",
    "                                       self.batch_size:(idx + 1) * self.batch_size]\n",
    "        batch_y = self.labels[idx *\n",
    "                              self.batch_size:(idx + 1) * self.batch_size]\n",
    "\n",
    "        return self.__data_generation(batch_x, batch_y)\n",
    "\n",
    "    def __data_generation(self, batch_x, batch_y):\n",
    "        X = np.empty((self.batch_size, *self.image_size, 6))\n",
    "        y = np.empty((self.batch_size))\n",
    "\n",
    "        for i, image_filename in enumerate(batch_x):\n",
    "            with rasterio.open(image_filename) as src:\n",
    "                X[i, ] = src.read(out_shape=self.image_size+(6,))\n",
    "            y[i] = batch_y[i]\n",
    "\n",
    "        return X, y\n"
   ]
  },
  {
   "cell_type": "code",
   "execution_count": 77,
   "metadata": {},
   "outputs": [],
   "source": [
    "# import os\n",
    "# import rasterio\n",
    "# import numpy as np\n",
    "from tensorflow.keras.utils import Sequence\n",
    "import ntpath\n",
    "\n",
    "\n",
    "def preprocess_data(data):\n",
    "    # Add your preprocessing function here\n",
    "    return data\n",
    "\n",
    "class DataGenerator(Sequence):\n",
    "    def __init__(self, image_dir, batch_size=32, shuffle=True, real_data_preprocessing_function=None, mask_data_preprocessing_function=None):\n",
    "        self.image_dir = image_dir\n",
    "        self.batch_size = batch_size\n",
    "        self.shuffle = shuffle\n",
    "        self.size = (160, 160)\n",
    "        self.real_data_preprocessing_function = real_data_preprocessing_function\n",
    "        self.mask_data_preprocessing_function = mask_data_preprocessing_function\n",
    "        self.image_list, self.mask_list = self.__load_filenames()\n",
    "\n",
    "    def __len__(self):\n",
    "        return len(self.image_list) // self.batch_size\n",
    "\n",
    "    def __getitem__(self, index):\n",
    "        # Generate indexes of the batch\n",
    "        indexes = self.indexes[index*self.batch_size:(index+1)*self.batch_size]\n",
    "\n",
    "        # Find list of IDs\n",
    "        image_list_temp = [self.image_list[k] for k in indexes]\n",
    "        mask_list_temp = [self.mask_list[k] for k in indexes]\n",
    "\n",
    "        # Generate data\n",
    "        X, y = self.__data_generation(image_list_temp, mask_list_temp)\n",
    "\n",
    "        return X, y\n",
    "\n",
    "    def on_epoch_end(self):\n",
    "        self.indexes = np.arange(len(self.image_list))\n",
    "        if self.shuffle:\n",
    "            np.random.shuffle(self.indexes)\n",
    "\n",
    "    def __load_filenames(self):\n",
    "        # image_list = []\n",
    "        mask_list = []\n",
    "        image_list = iu.get_all_files(\n",
    "            os.path.join(self.image_dir, 'real'), '*.npz', True)\n",
    "        for real_image_path in image_list:\n",
    "            mask_path = os.path.join(self.image_dir, 'mask', ntpath.basename(\n",
    "                real_image_path).replace('.npz', '.png'))\n",
    "            if not os.path.isfile(mask_path):\n",
    "               raise Exception(\"Cannot find mask for \" + real_image_path)\n",
    "            mask_list.append(mask_path)\n",
    "        # mask_list = iu.get_all_files(\n",
    "        #     os.path.join(self.image_dir, 'mask'), '*.png', True)\n",
    "        # for x in range(len(image_list)):\n",
    "        #     if ntpath.basename(image_list[x]).replace('.npz', '') != ntpath.basename(mask_list[x]).replace('.png', ''):\n",
    "        #         raise Exception(\"Cannot find mask for \" + image_list[x])\n",
    "        print(\n",
    "            f\"Found {len(image_list)} image pair.\")\n",
    "        # for real_file in real_files_path:\n",
    "        #     image\n",
    "        # for file in os.listdir(self.image_dir):\n",
    "        #     if file.endswith('.tiff'):\n",
    "        #         if 'mask' in file:\n",
    "        #             mask_list.append(file)\n",
    "        #         else:\n",
    "        #             image_list.append(file)\n",
    "        return image_list, mask_list\n",
    "\n",
    "    def __data_generation(self, image_list_temp, mask_list_temp):\n",
    "        width, height = self.size\n",
    "        X = np.empty((self.batch_size, height, width, 6))\n",
    "        y = np.empty((self.batch_size, height, width))\n",
    "        for i, (image_name, mask_name) in enumerate(zip(image_list_temp, mask_list_temp)):\n",
    "            np_gt = load_numpy_file(image_name)\n",
    "            mask_image = iu.read_image(mask_name)\n",
    "            if np_gt.shape != (height, width):\n",
    "                np_gt = resize_np_image(np_gt, self.size)\n",
    "            if mask_image.size != self.size:\n",
    "                mask_image =mask_image.resize(self.size)\n",
    "            np_mask_image = np.asarray(mask_image, dtype='uint8')\n",
    "            if self.real_data_preprocessing_function != None:\n",
    "                np_gt = self.real_data_preprocessing_function(np_gt)\n",
    "            if self.mask_data_preprocessing_function != None:\n",
    "                np_mask_image = self.mask_data_preprocessing_function(np_mask_image)\n",
    "            X[i, ] = np_gt\n",
    "            y[i, ] = np_mask_image\n",
    "        # Read images and masks into memory\n",
    "        # for i, (image_name, mask_name) in enumerate(zip(image_list_temp, mask_list_temp)):\n",
    "        #     with rasterio.open(self.image_dir + image_name) as src:\n",
    "        #         X[i, ] = src.read()\n",
    "\n",
    "        #     with rasterio.open(self.image_dir + mask_name) as src:\n",
    "        #         y[i, ] = src.read()\n",
    "\n",
    "        return X, y\n"
   ]
  },
  {
   "cell_type": "code",
   "execution_count": 78,
   "metadata": {},
   "outputs": [
    {
     "name": "stdout",
     "output_type": "stream",
     "text": [
      "Found 85568 image pair.\n"
     ]
    }
   ],
   "source": [
    "dg = DataGenerator(final_data_path, 32, False)"
   ]
  },
  {
   "cell_type": "code",
   "execution_count": null,
   "metadata": {},
   "outputs": [],
   "source": [
    "image_filenames = ['image1.tiff', 'image2.tiff', ...]\n",
    "labels = [0, 1, ...]\n",
    "batch_size = 32\n",
    "\n",
    "# create the DataGenerator\n",
    "data_generator = GeoTIFFDataGenerator(\n",
    "    image_filenames, labels, batch_size=batch_size)\n",
    "\n",
    "# fit the model\n",
    "model.fit(data_generator, epochs=10)\n"
   ]
  },
  {
   "attachments": {},
   "cell_type": "markdown",
   "metadata": {},
   "source": [
    "Prepare Train, val and test folder"
   ]
  },
  {
   "cell_type": "code",
   "execution_count": 10,
   "metadata": {},
   "outputs": [],
   "source": [
    "# Splits dataset into training, validation and test sets.\n",
    "def train_val_test_split(val_per, test_per, input_data, labels=None):\n",
    "    if labels is not None and len(input_data) != len(labels):\n",
    "        raise Exception(\"input data and label length mismatch\")\n",
    "    data_len = len(input_data)\n",
    "    val_len = int(data_len * (val_per / 100))\n",
    "    test_len = int(data_len * (test_per / 100))\n",
    "    x_val = input_data[0: val_len]\n",
    "    x_test = input_data[val_len: val_len + test_len]\n",
    "    x_train = input_data[val_len + test_len: data_len]\n",
    "    if labels is not None:\n",
    "        y_val = labels[0: val_len]\n",
    "        y_test = labels[val_len: val_len + test_len]\n",
    "        y_train = labels[val_len + test_len: data_len]\n",
    "        return (x_train, y_train), (x_val, y_val), (x_test, y_test)\n",
    "    else:\n",
    "        return x_train, x_val, x_test"
   ]
  },
  {
   "cell_type": "code",
   "execution_count": 16,
   "metadata": {},
   "outputs": [],
   "source": [
    "final_images_path = iu.get_all_files(real_final_data_path, '*.npz')"
   ]
  },
  {
   "cell_type": "code",
   "execution_count": 18,
   "metadata": {},
   "outputs": [],
   "source": [
    "images_final = []\n",
    "for path in final_images_path:\n",
    "    image = DataLabelPair(os.path.join(real_final_data_path, path),\n",
    "                          os.path.join(mask_final_data_path, path.replace('.npz', '.png')))\n",
    "    images_final.append(image)\n"
   ]
  },
  {
   "cell_type": "code",
   "execution_count": 19,
   "metadata": {},
   "outputs": [
    {
     "name": "stdout",
     "output_type": "stream",
     "text": [
      "Train length: 0\n",
      "Val length: 151\n",
      "Test length 0\n"
     ]
    }
   ],
   "source": [
    "train_images, val_images, test_images = train_val_test_split(\n",
    "    15, 0, images_final)\n",
    "print('Train length:', len(train_images))\n",
    "print('Val length:', len(val_images))\n",
    "print('Test length', len(test_images))\n"
   ]
  },
  {
   "cell_type": "code",
   "execution_count": 13,
   "metadata": {},
   "outputs": [],
   "source": [
    "#create directories for all training data.\n",
    "training_path = os.path.join(segmentation_path, 'training')\n",
    "iu.create_dir_if_not_exists(training_path)\n",
    "#train\n",
    "train_path = os.path.join(training_path, 'train')\n",
    "iu.create_dir_if_not_exists(train_path)\n",
    "train_real_path = os.path.join(train_path, 'real')\n",
    "iu.create_dir_if_not_exists(train_real_path)\n",
    "train_mask_path = os.path.join(train_path, 'mask')\n",
    "iu.create_dir_if_not_exists(train_mask_path)\n",
    "#val\n",
    "val_path = os.path.join(training_path, 'val')\n",
    "iu.create_dir_if_not_exists(val_path)\n",
    "val_real_path = os.path.join(val_path, 'real')\n",
    "iu.create_dir_if_not_exists(val_real_path)\n",
    "val_mask_path = os.path.join(val_path, 'mask')\n",
    "iu.create_dir_if_not_exists(val_mask_path)\n",
    "#test\n",
    "test_path = os.path.join(training_path, 'test')\n",
    "iu.create_dir_if_not_exists(test_path)\n",
    "test_real_path = os.path.join(test_path, 'real')\n",
    "iu.create_dir_if_not_exists(test_real_path)\n",
    "test_mask_path = os.path.join(test_path, 'mask')\n",
    "iu.create_dir_if_not_exists(test_mask_path)\n"
   ]
  },
  {
   "cell_type": "code",
   "execution_count": 14,
   "metadata": {},
   "outputs": [],
   "source": [
    "# copy training images to training folder\n",
    "for image in train_images:\n",
    "    shutil.move(image.data_real_path, os.path.join(\n",
    "        train_real_path, os.path.basename(image.data_real_path)))\n",
    "    shutil.move(image.label_path, os.path.join(\n",
    "        train_mask_path, os.path.basename(image.label_path)))"
   ]
  },
  {
   "cell_type": "code",
   "execution_count": 20,
   "metadata": {},
   "outputs": [],
   "source": [
    "# copy training images to training folder\n",
    "for image in val_images:\n",
    "    shutil.move(image.data_real_path, os.path.join(\n",
    "        val_real_path, os.path.basename(image.data_real_path)))\n",
    "    shutil.move(image.label_path, os.path.join(\n",
    "        val_mask_path, os.path.basename(image.label_path)))"
   ]
  },
  {
   "cell_type": "code",
   "execution_count": null,
   "metadata": {},
   "outputs": [],
   "source": [
    "# copy training images to training folder\n",
    "for image in test_images:\n",
    "    shutil.move(image.data_real_path, os.path.join(\n",
    "        test_real_path, os.path.basename(image.data_real_path)))\n",
    "    shutil.move(image.label_path, os.path.join(\n",
    "        test_mask_path, os.path.basename(image.label_path)))"
   ]
  }
 ],
 "metadata": {
  "kernelspec": {
   "display_name": "ml-env",
   "language": "python",
   "name": "ml-env"
  },
  "language_info": {
   "codemirror_mode": {
    "name": "ipython",
    "version": 3
   },
   "file_extension": ".py",
   "mimetype": "text/x-python",
   "name": "python",
   "nbconvert_exporter": "python",
   "pygments_lexer": "ipython3",
   "version": "3.8.13"
  },
  "orig_nbformat": 4
 },
 "nbformat": 4,
 "nbformat_minor": 2
}
