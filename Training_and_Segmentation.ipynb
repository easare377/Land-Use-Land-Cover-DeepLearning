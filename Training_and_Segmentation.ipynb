{
 "cells": [
  {
   "cell_type": "code",
   "execution_count": 12,
   "metadata": {},
   "outputs": [],
   "source": [
    "import keras\n",
    "from keras.datasets import mnist\n",
    "from keras.utils import np_utils\n",
    "import numpy as np\n",
    "import pandas as pd\n",
    "from matplotlib import pyplot as plt\n",
    "import tensorflow as tf\n",
    "import os\n",
    "from urllib.parse import urlparse\n",
    "from skimage.io import imread\n",
    "from PIL import Image, ImageEnhance\n",
    "from PIL import ImageFilter\n",
    "from skimage.transform import resize\n",
    "import image_utils as iu\n",
    "from keras.datasets import mnist\n",
    "from keras.models import Sequential\n",
    "# from keras.layers import Dense, Dropout, Conv2D, MaxPool2D, Flatten, LSTM, BatchNormalization\n",
    "from keras.layers import *\n",
    "from tensorflow.keras.applications.vgg16 import VGG16\n",
    "from tensorflow.keras.applications.resnet50 import ResNet50\n",
    "from keras import Input, Model\n",
    "# from keras.preprocessing.image import ImageDataGenerator\n",
    "from keras.models import load_model\n",
    "import numpy_utils as nu\n",
    "\n",
    "from osgeo import gdal\n",
    "from osgeo import gdal_array\n",
    "from osgeo import osr\n"
   ]
  },
  {
   "cell_type": "code",
   "execution_count": 2,
   "metadata": {},
   "outputs": [],
   "source": [
    "data_path = 'data'\n",
    "segmentation_path = os.path.join(data_path, 'segmentation')\n",
    "\n",
    "# mining_path = os.path.join(segmentation_path, 'mining')\n",
    "# training data paths\n",
    "training_path = os.path.join(segmentation_path, 'training')\n",
    "#train\n",
    "train_path = os.path.join(training_path, 'train')\n",
    "train_real_path = os.path.join(train_path, 'real')\n",
    "train_mask_path = os.path.join(train_path, 'mask')\n",
    "#val\n",
    "val_path = os.path.join(training_path, 'val')\n",
    "val_real_path = os.path.join(val_path, 'real')\n",
    "val_mask_path = os.path.join(val_path, 'mask')\n",
    "#test\n",
    "test_path = os.path.join(training_path, 'test')\n",
    "test_real_path = os.path.join(test_path, 'real')\n",
    "test_mask_path = os.path.join(test_path, 'mask')\n",
    "# Saved models\n",
    "saved_model_path = os.path.join(segmentation_path, 'saved-models')\n",
    "# Checkpoint path\n",
    "checkpoint_path = os.path.join(segmentation_path, 'train_ckpt')\n",
    "checkpoint_file_path = os.path.join(checkpoint_path, \"multi_class_segmentation.ckpt\")\n",
    "# Predictions path.\n",
    "prediction_path = os.path.join(segmentation_path, 'predictions')\n",
    "# Predicted image path.\n"
   ]
  },
  {
   "cell_type": "code",
   "execution_count": 3,
   "metadata": {},
   "outputs": [],
   "source": [
    "# import os\n",
    "# import rasterio\n",
    "# import numpy as np\n",
    "from tensorflow.keras.utils import Sequence\n",
    "import ntpath\n",
    "\n",
    "\n",
    "def preprocess_data(data):\n",
    "    # Add your preprocessing function here\n",
    "    return data\n",
    "\n",
    "class DataGenerator(Sequence):\n",
    "    def __init__(self, image_dir, batch_size=32, shuffle=True, real_data_preprocessing_function=None, mask_data_preprocessing_function=None):\n",
    "        self.image_dir = image_dir\n",
    "        self.batch_size = batch_size\n",
    "        self.shuffle = shuffle\n",
    "        self.size = (160, 160)\n",
    "        self.real_data_preprocessing_function = real_data_preprocessing_function\n",
    "        self.mask_data_preprocessing_function = mask_data_preprocessing_function\n",
    "        self.image_list, self.mask_list = self.__load_filenames()\n",
    "        self.on_epoch_end()\n",
    "\n",
    "    def __len__(self):\n",
    "        return len(self.image_list) // self.batch_size\n",
    "\n",
    "    def __getitem__(self, index):\n",
    "        # Generate indexes of the batch\n",
    "        indexes = self.indexes[index*self.batch_size:(index+1)*self.batch_size]\n",
    "\n",
    "        # Find list of IDs\n",
    "        image_list_temp = [self.image_list[k] for k in indexes]\n",
    "        mask_list_temp = [self.mask_list[k] for k in indexes]\n",
    "\n",
    "        # Generate data\n",
    "        X, y = self.__data_generation(image_list_temp, mask_list_temp)\n",
    "\n",
    "        return X, y\n",
    "\n",
    "    def on_epoch_end(self):\n",
    "        self.indexes = np.arange(len(self.image_list))\n",
    "        if self.shuffle:\n",
    "            np.random.shuffle(self.indexes)\n",
    "\n",
    "    def __load_filenames(self):\n",
    "        # image_list = []\n",
    "        mask_list = []\n",
    "        image_list = iu.get_all_files(\n",
    "            os.path.join(self.image_dir, 'real'), '*.npz', True)\n",
    "        for real_image_path in image_list:\n",
    "            mask_path = os.path.join(self.image_dir, 'mask', ntpath.basename(\n",
    "                real_image_path).replace('.npz', '.png'))\n",
    "            if not os.path.isfile(mask_path):\n",
    "               raise Exception(\"Cannot find mask for \" + real_image_path)\n",
    "            mask_list.append(mask_path)\n",
    "        print(\n",
    "            f\"Found {len(image_list)} image pair.\")\n",
    "        return image_list, mask_list\n",
    "\n",
    "    def __data_generation(self, image_list_temp, mask_list_temp):\n",
    "        width, height = self.size\n",
    "        X = np.empty((self.batch_size, height, width, 6))\n",
    "        y = np.empty((self.batch_size, height, width))\n",
    "        for i, (image_name, mask_name) in enumerate(zip(image_list_temp, mask_list_temp)):\n",
    "            np_gt = nu.load_numpy_file(image_name)\n",
    "            mask_image = iu.read_image(mask_name, 'L')\n",
    "            if np_gt.shape != (height, width):\n",
    "                np_gt = nu.resize_np_image(np_gt, self.size)\n",
    "            if mask_image.size != self.size:\n",
    "                mask_image =mask_image.resize(self.size)\n",
    "            np_mask_image = np.asarray(mask_image, dtype='uint8')\n",
    "            if self.real_data_preprocessing_function != None:\n",
    "                np_gt = self.real_data_preprocessing_function(np_gt)\n",
    "            if self.mask_data_preprocessing_function != None:\n",
    "                np_mask_image = self.mask_data_preprocessing_function(np_mask_image)\n",
    "            X[i, ] = np_gt\n",
    "            y[i, ] = np_mask_image       \n",
    "        return X, y\n"
   ]
  },
  {
   "cell_type": "code",
   "execution_count": 4,
   "metadata": {},
   "outputs": [],
   "source": [
    "#Converts the image into a numpy array and normalizes the pixel values.\n",
    "def real_image_preprocessing_func(np_gt):\n",
    "    return np_gt / 13029\n",
    "\n",
    "#Converts the mask into a numpy array and normalizes the pixel values.\n",
    "#Values are also rounded to create a sharp image.\n",
    "def mask_preprocessing_func(np_mask):\n",
    "    return np_mask / 255\n"
   ]
  },
  {
   "cell_type": "code",
   "execution_count": 5,
   "metadata": {},
   "outputs": [
    {
     "name": "stdout",
     "output_type": "stream",
     "text": [
      "Found 72734 image pair.\n",
      "Found 12834 image pair.\n",
      "Found 0 image pair.\n"
     ]
    }
   ],
   "source": [
    "# load and iterate training dataset\n",
    "image_width = 160\n",
    "image_height = 160\n",
    "batch_size = 8\n",
    "image_size = (image_width, image_height)\n",
    "train_datagen = DataGenerator(train_path, batch_size, False,\n",
    "                              real_data_preprocessing_function=real_image_preprocessing_func)\n",
    "val_datagen = DataGenerator(val_path, batch_size, False,\n",
    "                            real_data_preprocessing_function=real_image_preprocessing_func)\n",
    "test_datagen = DataGenerator(test_path, batch_size, False,\n",
    "                             real_data_preprocessing_function=real_image_preprocessing_func)\n"
   ]
  },
  {
   "cell_type": "code",
   "execution_count": null,
   "metadata": {},
   "outputs": [],
   "source": [
    "# A folder for saving checkpoint is created for\n",
    "iu.create_dir_if_not_exists(checkpoint_path)\n",
    "# Create a callback that saves the model's weights every epoch\n",
    "cp_callback = tf.keras.callbacks.ModelCheckpoint(\n",
    "    filepath=checkpoint_file_path,\n",
    "    verbose=0,\n",
    "    save_weights_only=True,\n",
    "    save_freq='epoch')\n"
   ]
  },
  {
   "attachments": {},
   "cell_type": "markdown",
   "metadata": {},
   "source": [
    "## Modelling\n",
    "Image segmentation is achieved with the U-net architecture.<br>\n",
    "To improve the training performance transfer learning techniques are used.<br>\n",
    "The encoder block of the U-Net model is made up of layers of a pre-trained<br>\n",
    "VGG16 model with weights updated using *imagenet*."
   ]
  },
  {
   "cell_type": "code",
   "execution_count": 6,
   "metadata": {},
   "outputs": [],
   "source": [
    "from tensorflow.keras.initializers import RandomNormal\n",
    "\n",
    "# Define conv block.\n",
    "def conv_block(inputs, num_filters):\n",
    "    x = Conv2D(num_filters, 3, padding='same')(inputs)\n",
    "    x = BatchNormalization()(x)\n",
    "    x = Activation('relu')(x)\n",
    "    x = Conv2D(num_filters, 3, padding='same')(x)\n",
    "    x = BatchNormalization()(x)\n",
    "    x = Activation('relu')(x)\n",
    "    return x\n",
    "\n",
    "# Define Decoder block\n",
    "def define_decoder(inputs, skip_layer, num_filters):\n",
    "    init = RandomNormal(stddev=0.02)\n",
    "    x = Conv2DTranspose(num_filters, (2, 2), strides=(\n",
    "        2, 2), padding='same', kernel_initializer=init)(inputs)\n",
    "    g = Concatenate()([x, skip_layer])\n",
    "    g = conv_block(g, num_filters)\n",
    "    return g"
   ]
  },
  {
   "cell_type": "code",
   "execution_count": 22,
   "metadata": {},
   "outputs": [],
   "source": [
    "# Creates a VGG16 Unet model\n",
    "def vgg16_unet(input_shape , n_classes):\n",
    "    inputs = Input(shape=input_shape)\n",
    "    vgg16 = VGG16(include_top=False, weights='imagenet',\n",
    "                  input_shape=input_shape, input_tensor=inputs)  # We will extract encoder layers based on their output shape from vgg16 model\n",
    "    # vgg16(inputs)\n",
    "    s1 = vgg16.get_layer('block1_conv2').output\n",
    "    s2 = vgg16.get_layer('block2_conv2').output\n",
    "    s3 = vgg16.get_layer('block3_conv3').output\n",
    "    # bottleneck/bridege layer from vgg16\n",
    "    s4 = vgg16.get_layer('block4_conv3').output\n",
    "    b1 = vgg16.get_layer('block5_conv3').output  # 32\n",
    "    # Decoder Block\n",
    "    d1 = define_decoder(b1, s4, 512)\n",
    "    d2 = define_decoder(d1, s3, 256)\n",
    "    d3 = define_decoder(d2, s2, 128)\n",
    "    d4 = define_decoder(d3, s1, 64)  # output layer\n",
    "    outputs = Conv2D(n_classes, 1, padding='same')(d4)\n",
    "    model = Model(inputs, outputs)\n",
    "    return model"
   ]
  },
  {
   "cell_type": "code",
   "execution_count": null,
   "metadata": {},
   "outputs": [],
   "source": [
    "#Build vgg unet model 1\n",
    "input_size = (image_height, image_width, 4)\n",
    "lr = 1e-4\n",
    "model = vgg16_unet(input_size, 24)\n",
    "model.compile(optimizer='adam',\n",
    "              loss=tf.keras.losses.SparseCategoricalCrossentropy(from_logits=True), metrics=['accuracy'])\n",
    "model.summary()\n"
   ]
  },
  {
   "cell_type": "code",
   "execution_count": 6,
   "metadata": {},
   "outputs": [],
   "source": [
    "def EncoderMiniBlock(inputs, n_filters=32, dropout_prob=0.3, max_pooling=True):\n",
    "    \"\"\"\n",
    "    This block uses multiple convolution layers, max pool, relu activation to create an architecture for learning. \n",
    "    Dropout can be added for regularization to prevent overfitting. \n",
    "    The block returns the activation values for next layer along with a skip connection which will be used in the decoder\n",
    "    \"\"\"\n",
    "    # Add 2 Conv Layers with relu activation and HeNormal initialization using TensorFlow\n",
    "    # Proper initialization prevents from the problem of exploding and vanishing gradients\n",
    "    # 'Same' padding will pad the input to conv layer such that the output has the same height and width (hence, is not reduced in size)\n",
    "    conv = Conv2D(n_filters,\n",
    "                  3,   # Kernel size\n",
    "                  activation='relu',\n",
    "                  padding='same',\n",
    "                  kernel_initializer='HeNormal')(inputs)\n",
    "    conv = Conv2D(n_filters,\n",
    "                  3,   # Kernel size\n",
    "                  activation='relu',\n",
    "                  padding='same',\n",
    "                  kernel_initializer='HeNormal')(conv)\n",
    "\n",
    "    # Batch Normalization will normalize the output of the last layer based on the batch's mean and standard deviation\n",
    "    conv = BatchNormalization()(conv, training=False)\n",
    "\n",
    "    # In case of overfitting, dropout will regularize the loss and gradient computation to shrink the influence of weights on output\n",
    "    if dropout_prob > 0:\n",
    "        conv = tf.keras.layers.Dropout(dropout_prob)(conv)\n",
    "\n",
    "    # Pooling reduces the size of the image while keeping the number of channels same\n",
    "    # Pooling has been kept as optional as the last encoder layer does not use pooling (hence, makes the encoder block flexible to use)\n",
    "    # Below, Max pooling considers the maximum of the input slice for output computation and uses stride of 2 to traverse across input image\n",
    "    if max_pooling:\n",
    "        next_layer = tf.keras.layers.MaxPooling2D(pool_size=(2, 2))(conv)\n",
    "    else:\n",
    "        next_layer = conv\n",
    "\n",
    "    # skip connection (without max pooling) will be input to the decoder layer to prevent information loss during transpose convolutions\n",
    "    skip_connection = conv\n",
    "\n",
    "    return next_layer, skip_connection\n",
    "\n",
    "\n",
    "def DecoderMiniBlock(prev_layer_input, skip_layer_input, n_filters=32):\n",
    "    \"\"\"\n",
    "    Decoder Block first uses transpose convolution to upscale the image to a bigger size and then,\n",
    "    merges the result with skip layer results from encoder block\n",
    "    Adding 2 convolutions with 'same' padding helps further increase the depth of the network for better predictions\n",
    "    The function returns the decoded layer output\n",
    "    \"\"\"\n",
    "    # Start with a transpose convolution layer to first increase the size of the image\n",
    "    up = Conv2DTranspose(\n",
    "        n_filters,\n",
    "        (3, 3),    # Kernel size\n",
    "        strides=(2, 2),\n",
    "        padding='same')(prev_layer_input)\n",
    "\n",
    "    # Merge the skip connection from previous block to prevent information loss\n",
    "    merge = concatenate([up, skip_layer_input], axis=3)\n",
    "\n",
    "    # Add 2 Conv Layers with relu activation and HeNormal initialization for further processing\n",
    "    # The parameters for the function are similar to encoder\n",
    "    conv = Conv2D(n_filters,\n",
    "                  3,     # Kernel size\n",
    "                  activation='relu',\n",
    "                  padding='same',\n",
    "                  kernel_initializer='HeNormal')(merge)\n",
    "    conv = Conv2D(n_filters,\n",
    "                  3,   # Kernel size\n",
    "                  activation='relu',\n",
    "                  padding='same',\n",
    "                  kernel_initializer='HeNormal')(conv)\n",
    "    return conv\n"
   ]
  },
  {
   "cell_type": "code",
   "execution_count": 7,
   "metadata": {},
   "outputs": [
    {
     "name": "stderr",
     "output_type": "stream",
     "text": [
      "2023-01-02 21:27:49.723155: I tensorflow/core/platform/cpu_feature_guard.cc:142] This TensorFlow binary is optimized with oneAPI Deep Neural Network Library (oneDNN) to use the following CPU instructions in performance-critical operations:  AVX2 FMA\n",
      "To enable them in other operations, rebuild TensorFlow with the appropriate compiler flags.\n"
     ]
    },
    {
     "name": "stdout",
     "output_type": "stream",
     "text": [
      "Model: \"model\"\n",
      "__________________________________________________________________________________________________\n",
      "Layer (type)                    Output Shape         Param #     Connected to                     \n",
      "==================================================================================================\n",
      "input_1 (InputLayer)            [(None, 160, 160, 6) 0                                            \n",
      "__________________________________________________________________________________________________\n",
      "conv2d (Conv2D)                 (None, 160, 160, 64) 3520        input_1[0][0]                    \n",
      "__________________________________________________________________________________________________\n",
      "conv2d_1 (Conv2D)               (None, 160, 160, 64) 36928       conv2d[0][0]                     \n",
      "__________________________________________________________________________________________________\n",
      "batch_normalization (BatchNorma (None, 160, 160, 64) 256         conv2d_1[0][0]                   \n",
      "__________________________________________________________________________________________________\n",
      "max_pooling2d (MaxPooling2D)    (None, 80, 80, 64)   0           batch_normalization[0][0]        \n",
      "__________________________________________________________________________________________________\n",
      "conv2d_2 (Conv2D)               (None, 80, 80, 128)  73856       max_pooling2d[0][0]              \n",
      "__________________________________________________________________________________________________\n",
      "conv2d_3 (Conv2D)               (None, 80, 80, 128)  147584      conv2d_2[0][0]                   \n",
      "__________________________________________________________________________________________________\n",
      "batch_normalization_1 (BatchNor (None, 80, 80, 128)  512         conv2d_3[0][0]                   \n",
      "__________________________________________________________________________________________________\n",
      "max_pooling2d_1 (MaxPooling2D)  (None, 40, 40, 128)  0           batch_normalization_1[0][0]      \n",
      "__________________________________________________________________________________________________\n",
      "conv2d_4 (Conv2D)               (None, 40, 40, 256)  295168      max_pooling2d_1[0][0]            \n",
      "__________________________________________________________________________________________________\n",
      "conv2d_5 (Conv2D)               (None, 40, 40, 256)  590080      conv2d_4[0][0]                   \n",
      "__________________________________________________________________________________________________\n",
      "batch_normalization_2 (BatchNor (None, 40, 40, 256)  1024        conv2d_5[0][0]                   \n",
      "__________________________________________________________________________________________________\n",
      "max_pooling2d_2 (MaxPooling2D)  (None, 20, 20, 256)  0           batch_normalization_2[0][0]      \n",
      "__________________________________________________________________________________________________\n",
      "conv2d_6 (Conv2D)               (None, 20, 20, 512)  1180160     max_pooling2d_2[0][0]            \n",
      "__________________________________________________________________________________________________\n",
      "conv2d_7 (Conv2D)               (None, 20, 20, 512)  2359808     conv2d_6[0][0]                   \n",
      "__________________________________________________________________________________________________\n",
      "batch_normalization_3 (BatchNor (None, 20, 20, 512)  2048        conv2d_7[0][0]                   \n",
      "__________________________________________________________________________________________________\n",
      "dropout (Dropout)               (None, 20, 20, 512)  0           batch_normalization_3[0][0]      \n",
      "__________________________________________________________________________________________________\n",
      "max_pooling2d_3 (MaxPooling2D)  (None, 10, 10, 512)  0           dropout[0][0]                    \n",
      "__________________________________________________________________________________________________\n",
      "conv2d_8 (Conv2D)               (None, 10, 10, 1024) 4719616     max_pooling2d_3[0][0]            \n",
      "__________________________________________________________________________________________________\n",
      "conv2d_9 (Conv2D)               (None, 10, 10, 1024) 9438208     conv2d_8[0][0]                   \n",
      "__________________________________________________________________________________________________\n",
      "batch_normalization_4 (BatchNor (None, 10, 10, 1024) 4096        conv2d_9[0][0]                   \n",
      "__________________________________________________________________________________________________\n",
      "dropout_1 (Dropout)             (None, 10, 10, 1024) 0           batch_normalization_4[0][0]      \n",
      "__________________________________________________________________________________________________\n",
      "conv2d_transpose (Conv2DTranspo (None, 20, 20, 512)  4719104     dropout_1[0][0]                  \n",
      "__________________________________________________________________________________________________\n",
      "concatenate (Concatenate)       (None, 20, 20, 1024) 0           conv2d_transpose[0][0]           \n",
      "                                                                 dropout[0][0]                    \n",
      "__________________________________________________________________________________________________\n",
      "conv2d_10 (Conv2D)              (None, 20, 20, 512)  4719104     concatenate[0][0]                \n",
      "__________________________________________________________________________________________________\n",
      "conv2d_11 (Conv2D)              (None, 20, 20, 512)  2359808     conv2d_10[0][0]                  \n",
      "__________________________________________________________________________________________________\n",
      "conv2d_transpose_1 (Conv2DTrans (None, 40, 40, 256)  1179904     conv2d_11[0][0]                  \n",
      "__________________________________________________________________________________________________\n",
      "concatenate_1 (Concatenate)     (None, 40, 40, 512)  0           conv2d_transpose_1[0][0]         \n",
      "                                                                 batch_normalization_2[0][0]      \n",
      "__________________________________________________________________________________________________\n",
      "conv2d_12 (Conv2D)              (None, 40, 40, 256)  1179904     concatenate_1[0][0]              \n",
      "__________________________________________________________________________________________________\n",
      "conv2d_13 (Conv2D)              (None, 40, 40, 256)  590080      conv2d_12[0][0]                  \n",
      "__________________________________________________________________________________________________\n",
      "conv2d_transpose_2 (Conv2DTrans (None, 80, 80, 128)  295040      conv2d_13[0][0]                  \n",
      "__________________________________________________________________________________________________\n",
      "concatenate_2 (Concatenate)     (None, 80, 80, 256)  0           conv2d_transpose_2[0][0]         \n",
      "                                                                 batch_normalization_1[0][0]      \n",
      "__________________________________________________________________________________________________\n",
      "conv2d_14 (Conv2D)              (None, 80, 80, 128)  295040      concatenate_2[0][0]              \n",
      "__________________________________________________________________________________________________\n",
      "conv2d_15 (Conv2D)              (None, 80, 80, 128)  147584      conv2d_14[0][0]                  \n",
      "__________________________________________________________________________________________________\n",
      "conv2d_transpose_3 (Conv2DTrans (None, 160, 160, 64) 73792       conv2d_15[0][0]                  \n",
      "__________________________________________________________________________________________________\n",
      "concatenate_3 (Concatenate)     (None, 160, 160, 128 0           conv2d_transpose_3[0][0]         \n",
      "                                                                 batch_normalization[0][0]        \n",
      "__________________________________________________________________________________________________\n",
      "conv2d_16 (Conv2D)              (None, 160, 160, 64) 73792       concatenate_3[0][0]              \n",
      "__________________________________________________________________________________________________\n",
      "conv2d_17 (Conv2D)              (None, 160, 160, 64) 36928       conv2d_16[0][0]                  \n",
      "__________________________________________________________________________________________________\n",
      "conv2d_18 (Conv2D)              (None, 160, 160, 64) 36928       conv2d_17[0][0]                  \n",
      "__________________________________________________________________________________________________\n",
      "conv2d_19 (Conv2D)              (None, 160, 160, 24) 1560        conv2d_18[0][0]                  \n",
      "==================================================================================================\n",
      "Total params: 34,561,432\n",
      "Trainable params: 34,557,464\n",
      "Non-trainable params: 3,968\n",
      "__________________________________________________________________________________________________\n"
     ]
    }
   ],
   "source": [
    "input_size = (image_height, image_width, 6)\n",
    "n_filters = 64\n",
    "n_classes = 24\n",
    "\n",
    "# Input size represent the size of 1 image (the size used for pre-processing)\n",
    "inputs = Input(input_size)\n",
    "\n",
    "# Encoder includes multiple convolutional mini blocks with different maxpooling, dropout and filter parameters\n",
    "# Observe that the filters are increasing as we go deeper into the network which will increasse the # channels of the image\n",
    "cblock1 = EncoderMiniBlock(inputs, n_filters, dropout_prob=0, max_pooling=True)\n",
    "cblock2 = EncoderMiniBlock(\n",
    "    cblock1[0], n_filters*2, dropout_prob=0, max_pooling=True)\n",
    "cblock3 = EncoderMiniBlock(\n",
    "    cblock2[0], n_filters*4, dropout_prob=0, max_pooling=True)\n",
    "cblock4 = EncoderMiniBlock(\n",
    "    cblock3[0], n_filters*8, dropout_prob=0.3, max_pooling=True)\n",
    "cblock5 = EncoderMiniBlock(\n",
    "    cblock4[0], n_filters*16, dropout_prob=0.3, max_pooling=False)\n",
    "\n",
    "# Decoder includes multiple mini blocks with decreasing number of filters\n",
    "# Observe the skip connections from the encoder are given as input to the decoder\n",
    "# Recall the 2nd output of encoder block was skip connection, hence cblockn[1] is used\n",
    "ublock6 = DecoderMiniBlock(cblock5[0], cblock4[1],  n_filters * 8)\n",
    "ublock7 = DecoderMiniBlock(ublock6, cblock3[1],  n_filters * 4)\n",
    "ublock8 = DecoderMiniBlock(ublock7, cblock2[1],  n_filters * 2)\n",
    "ublock9 = DecoderMiniBlock(ublock8, cblock1[1],  n_filters)\n",
    "\n",
    "# Complete the model with 1 3x3 convolution layer (Same as the prev Conv Layers)\n",
    "# Followed by a 1x1 Conv layer to get the image to the desired size.\n",
    "# Observe the number of channels will be equal to number of output classes\n",
    "conv9 = Conv2D(n_filters,\n",
    "               3,\n",
    "               activation='relu',\n",
    "               padding='same',\n",
    "               kernel_initializer='he_normal')(ublock9)\n",
    "\n",
    "conv10 = Conv2D(n_classes, 1, padding='same')(conv9)\n",
    "\n",
    "# Define the model\n",
    "model = tf.keras.Model(inputs=inputs, outputs=conv10)\n",
    "# model1.compile(loss=dice_loss, optimizer='adam', metrics=[\n",
    "#               dice_coef, iou])\n",
    "model.compile(optimizer='adam',\n",
    "               loss=tf.keras.losses.SparseCategoricalCrossentropy(from_logits=True), metrics=['accuracy'])\n",
    "# model.compile(loss='mse', optimizer='adam', metrics=['accuracy'])\n",
    "model.summary()\n"
   ]
  },
  {
   "cell_type": "code",
   "execution_count": 89,
   "metadata": {},
   "outputs": [
    {
     "name": "stdout",
     "output_type": "stream",
     "text": [
      "Epoch 1/10\n",
      "9091/9091 [============================>.] - ETA: 4s - loss: 1.2786 - accuracy: 0.5528 WARNING:tensorflow:Your input ran out of data; interrupting training. Make sure that your dataset or generator can generate at least `steps_per_epoch * epochs` batches (in this case, 90917.5 batches). You may need to use the repeat() function when building your dataset.\n",
      "WARNING:tensorflow:Your input ran out of data; interrupting training. Make sure that your dataset or generator can generate at least `steps_per_epoch * epochs` batches (in this case, 1604.25 batches). You may need to use the repeat() function when building your dataset.\n",
      "9091/9091 [==============================] - 55733s 6s/step - loss: 1.2786 - accuracy: 0.5528 - val_loss: 1.2351 - val_accuracy: 0.5749\n"
     ]
    }
   ],
   "source": [
    "history = model.fit(\n",
    "    train_datagen,\n",
    "    steps_per_epoch=len(train_datagen.image_list) / batch_size,\n",
    "    epochs=10,\n",
    "    validation_data=val_datagen,\n",
    "    validation_steps=len(val_datagen.image_list) / batch_size,\n",
    "    verbose=1)\n"
   ]
  },
  {
   "cell_type": "code",
   "execution_count": null,
   "metadata": {},
   "outputs": [],
   "source": [
    "model.fit(train_datagen, len(train_datagen.image_list) / batch_size,\n",
    "          validation_data=validation_generator, validation_steps=len(validation_generator), epochs=10)\n"
   ]
  },
  {
   "cell_type": "code",
   "execution_count": 94,
   "metadata": {},
   "outputs": [],
   "source": [
    "#Model is saved as h5 format after training.\n",
    "from datetime import datetime\n",
    "iu.create_dir_if_not_exists(saved_model_path)\n",
    "model.save(os.path.join(saved_model_path, 'multi_class_unet_model_' +\n",
    "                        str(datetime.now()).replace(':', '-') + '.h5'))"
   ]
  },
  {
   "cell_type": "code",
   "execution_count": null,
   "metadata": {},
   "outputs": [],
   "source": [
    "model.evaluate(val_datagen)"
   ]
  },
  {
   "cell_type": "code",
   "execution_count": null,
   "metadata": {},
   "outputs": [],
   "source": [
    "y_pred = model.predict(test_gen)"
   ]
  },
  {
   "cell_type": "code",
   "execution_count": 18,
   "metadata": {},
   "outputs": [],
   "source": [
    "# The color code or legend for each class is defined for visualization\n",
    "new_color_encoding = {0: [255, 0, 0],  # Degraded Gallery Forest\n",
    "                      1: [60, 154, 206],  # Wetland\n",
    "                      2: [0, 255, 0],  # Plantation\n",
    "                      3: [98, 124, 61],  # Mangrove\n",
    "                      4: [217, 212, 12],  # Agric\n",
    "                      5: [0, 1, 128],  # Waterbody\n",
    "                      6: [255, 223, 167],  # Sandy Area\n",
    "                      7: [180, 96, 0],  # Rocky Land\n",
    "                      8: [142, 125, 115],  # Bare Soil\n",
    "                      9: [251, 72, 196],  # Settlement\n",
    "                      10: [179, 227, 214],  # Irrigated Agric\n",
    "                      11: [255, 128, 64],  # Gallery\n",
    "                      12: [41, 49, 28],  # Shrub and Tee Savanna\n",
    "                      13: [231, 177, 106],  # Wooded Savanna\n",
    "                      14: [65, 100, 34],  # Forest\n",
    "                      15: [50, 50, 50],  # Salt Pan\n",
    "                      16: [119, 85, 60],  # Degraded\n",
    "                      17: [128, 64, 255],  # Bowe\n",
    "                      # Agriculture in Shallow and Recession\n",
    "                      18: [90, 64, 128],\n",
    "                      19: [255, 64, 64],  # Woodland\n",
    "                      20: [0, 255, 255],  # Dam\n",
    "                      21: [128, 0, 64],  # Herbaecous Savanna\n",
    "                      22: [255, 255, 255],  # Shrub Land\n",
    "                      23: [0, 0, 0]}  # No data"
   ]
  },
  {
   "cell_type": "code",
   "execution_count": 37,
   "metadata": {},
   "outputs": [],
   "source": [
    "def create_mask(pred_mask):\n",
    "    pred_mask = tf.argmax(pred_mask, axis=-1)\n",
    "    pred_mask = pred_mask[..., tf.newaxis]\n",
    "    return pred_mask[0]\n",
    "\n",
    "# Predicts the mask of an image.\n",
    "def predict_mask(unet, np_img, input_size):\n",
    "    # split image\n",
    "    image_width, image_height = input_size\n",
    "    np_img = nu.resize_np_image(np_img, (image_height, image_width))\n",
    "    np_img = np_img / 13029\n",
    "    pred = unet.predict(np.array([np_img]))\n",
    "    return np.asarray(create_mask(pred))\n",
    "    # print(pred[0].max())\n",
    "    mask = np.round(pred[0])\n",
    "    # print(mask)\n",
    "    mask = mask * 255\n",
    "    mask = Image.fromarray(mask.reshape(\n",
    "        image_height, image_width)).convert(\"L\")\n",
    "    return mask\n"
   ]
  },
  {
   "cell_type": "code",
   "execution_count": 38,
   "metadata": {},
   "outputs": [],
   "source": [
    "def display_np_geoTiff(np_geoTiff):\n",
    "    np_rgb_image = np_geoTiff[:, :, 0:3][:, :, ::-1]\n",
    "    np_n_im = (np_rgb_image / np_rgb_image.max()) * 255\n",
    "    im = Image.fromarray(np.array(np_n_im, dtype=np.uint8))\n",
    "    return im"
   ]
  },
  {
   "cell_type": "code",
   "execution_count": 39,
   "metadata": {},
   "outputs": [],
   "source": [
    "def display_legend(np_image, color_encoding):\n",
    "    flat_gh_im = np_image.reshape(-1, 1)\n",
    "    #\n",
    "    new_gh_im = []\n",
    "    for x in range(flat_gh_im.shape[0]):\n",
    "        new_gh_im.append(color_encoding.get(flat_gh_im[x][0], [0, 0, 0]))\n",
    "    #\n",
    "    new_gh_im = np.array(new_gh_im).reshape(\n",
    "        np_image.shape[0], np_image.shape[1], 3)\n",
    "    enc_im = Image.fromarray(np.array(new_gh_im, dtype=np.uint8))\n",
    "    return enc_im"
   ]
  },
  {
   "cell_type": "code",
   "execution_count": 119,
   "metadata": {},
   "outputs": [],
   "source": [
    "np_gt = nu.load_numpy_file(\n",
    "    'data/segmentation/training/val/real/fc66aec4-d08f-4d7c-ad40-754a4ffc90f9.npz')\n",
    "mask_image = iu.read_image(\n",
    "    'data/segmentation/training/val/mask/fc66aec4-d08f-4d7c-ad40-754a4ffc90f9.png')\n",
    "\n",
    "np_gt = nu.load_numpy_file(\n",
    "    'data/segmentation/divided/real/0cf927dc-1371-4206-9c1c-480a02fdccdd.npz')\n",
    "mask_image = iu.read_image(\n",
    "    'data/segmentation/divided/mask/0cf927dc-1371-4206-9c1c-480a02fdccdd.png')\n"
   ]
  },
  {
   "cell_type": "code",
   "execution_count": 121,
   "metadata": {},
   "outputs": [],
   "source": [
    "mask = predict_mask(model, np_gt, (160, 160))"
   ]
  },
  {
   "cell_type": "code",
   "execution_count": 118,
   "metadata": {},
   "outputs": [
    {
     "data": {
      "image/png": "[encoded data removed]",
      "text/plain": [
       "<PIL.Image.Image image mode=RGB size=160x160 at 0x7FC3FB76DC70>"
      ]
     },
     "execution_count": 118,
     "metadata": {},
     "output_type": "execute_result"
    }
   ],
   "source": [
    "display_np_geoTiff(np_gt)"
   ]
  },
  {
   "cell_type": "code",
   "execution_count": 120,
   "metadata": {},
   "outputs": [
    {
     "data": {
      "image/png": "[encoded data removed]",
      "text/plain": [
       "<PIL.Image.Image image mode=RGB size=160x160 at 0x7FC3FAA2C430>"
      ]
     },
     "execution_count": 120,
     "metadata": {},
     "output_type": "execute_result"
    }
   ],
   "source": [
    "np_mask = np.asarray(mask_image)\n",
    "display_legend(np_mask, new_color_encoding)"
   ]
  },
  {
   "cell_type": "code",
   "execution_count": 122,
   "metadata": {},
   "outputs": [
    {
     "data": {
      "image/png": "[encoded data removed]",
      "text/plain": [
       "<PIL.Image.Image image mode=RGB size=160x160 at 0x7FC3FB75B730>"
      ]
     },
     "execution_count": 122,
     "metadata": {},
     "output_type": "execute_result"
    }
   ],
   "source": [
    "display_legend(mask, new_color_encoding)"
   ]
  }
 ],
 "metadata": {
  "kernelspec": {
   "display_name": "ml-env",
   "language": "python",
   "name": "ml-env"
  },
  "language_info": {
   "codemirror_mode": {
    "name": "ipython",
    "version": 3
   },
   "file_extension": ".py",
   "mimetype": "text/x-python",
   "name": "python",
   "nbconvert_exporter": "python",
   "pygments_lexer": "ipython3",
   "version": "3.8.13"
  },
  "orig_nbformat": 4,
  "vscode": {
   "interpreter": {
    "hash": "810de9b3cd2e024eccc92a1f9aa24c11a8d2eda5f7347a9fbc9c3402570ea0d0"
   }
  }
 },
 "nbformat": 4,
 "nbformat_minor": 2
}
